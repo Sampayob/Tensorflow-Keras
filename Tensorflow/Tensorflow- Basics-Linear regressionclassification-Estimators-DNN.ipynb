{
 "cells": [
  {
   "cell_type": "markdown",
   "metadata": {},
   "source": [
    "# Tensorflow: Basics reference guide"
   ]
  },
  {
   "cell_type": "markdown",
   "metadata": {},
   "source": [
    "* Basics\n",
    "* Tensorflow Graphs basics\n",
    "* Tensorflow Neural Network: Linear regression and classification\n",
    "* Estimators for classification\n",
    "* DNN: Dense Neural Network classifier"
   ]
  },
  {
   "cell_type": "code",
   "execution_count": 2,
   "metadata": {
    "scrolled": false
   },
   "outputs": [],
   "source": [
    "import tensorflow as tf"
   ]
  },
  {
   "cell_type": "markdown",
   "metadata": {},
   "source": [
    "## Basics"
   ]
  },
  {
   "cell_type": "code",
   "execution_count": 2,
   "metadata": {},
   "outputs": [
    {
     "name": "stdout",
     "output_type": "stream",
     "text": [
      "1.13.1\n"
     ]
    }
   ],
   "source": [
    "print(tf.__version__)"
   ]
  },
  {
   "cell_type": "code",
   "execution_count": 4,
   "metadata": {},
   "outputs": [],
   "source": [
    "hello = tf.constant('Hello')\n",
    "\n",
    "world = tf.constant('world')\n",
    "\n",
    "with tf.Session() as sess:\n",
    "    result = sess.run(hello+world)"
   ]
  },
  {
   "cell_type": "code",
   "execution_count": 5,
   "metadata": {},
   "outputs": [
    {
     "name": "stdout",
     "output_type": "stream",
     "text": [
      "b'Helloworld'\n"
     ]
    }
   ],
   "source": [
    "print(result)"
   ]
  },
  {
   "cell_type": "code",
   "execution_count": 6,
   "metadata": {},
   "outputs": [
    {
     "data": {
      "text/plain": [
       "<tf.Tensor 'add_1:0' shape=() dtype=int32>"
      ]
     },
     "execution_count": 6,
     "metadata": {},
     "output_type": "execute_result"
    }
   ],
   "source": [
    "a = tf.constant(10)\n",
    "b = tf.constant(20)\n",
    "\n",
    "a+b"
   ]
  },
  {
   "cell_type": "markdown",
   "metadata": {},
   "source": [
    "#### tensor: n dimension array"
   ]
  },
  {
   "cell_type": "code",
   "execution_count": 7,
   "metadata": {},
   "outputs": [],
   "source": [
    "fill_mat = tf.fill((4,4),10)\n",
    "\n",
    "myzeros = tf.zeros((4,4))\n",
    "\n",
    "myones = tf.ones((4,4))"
   ]
  },
  {
   "cell_type": "code",
   "execution_count": 8,
   "metadata": {},
   "outputs": [
    {
     "data": {
      "text/plain": [
       "<tf.Tensor 'Fill:0' shape=(4, 4) dtype=int32>"
      ]
     },
     "execution_count": 8,
     "metadata": {},
     "output_type": "execute_result"
    }
   ],
   "source": [
    "fill_mat"
   ]
  },
  {
   "cell_type": "code",
   "execution_count": 11,
   "metadata": {},
   "outputs": [],
   "source": [
    "myrandn = tf.random_normal((4,4),mean =0, stddev = 1.0)\n",
    "myrandu = tf.random_uniform((4,4),minval=0, maxval= 1)"
   ]
  },
  {
   "cell_type": "markdown",
   "metadata": {},
   "source": [
    "#### calling functions"
   ]
  },
  {
   "cell_type": "code",
   "execution_count": 15,
   "metadata": {},
   "outputs": [],
   "source": [
    "my_ops = [fill_mat ,myzeros,myrandn]\n"
   ]
  },
  {
   "cell_type": "code",
   "execution_count": 17,
   "metadata": {},
   "outputs": [
    {
     "name": "stdout",
     "output_type": "stream",
     "text": [
      "[array([[10, 10, 10, 10],\n",
      "       [10, 10, 10, 10],\n",
      "       [10, 10, 10, 10],\n",
      "       [10, 10, 10, 10]]), array([[0., 0., 0., 0.],\n",
      "       [0., 0., 0., 0.],\n",
      "       [0., 0., 0., 0.],\n",
      "       [0., 0., 0., 0.]], dtype=float32), array([[ 1.2123208 ,  0.251575  , -0.8132166 ,  0.01667964],\n",
      "       [-0.03499965, -0.43506962,  0.04367896, -0.27108732],\n",
      "       [ 0.2583481 ,  0.08379919,  1.0234421 ,  0.7952701 ],\n",
      "       [-0.17960583, -2.075164  ,  1.2611476 , -0.60460997]],\n",
      "      dtype=float32)]\n"
     ]
    }
   ],
   "source": [
    "with tf.Session() as sess:\n",
    "    result = sess.run(my_ops)\n",
    "    \n",
    "print(result)"
   ]
  },
  {
   "cell_type": "code",
   "execution_count": 19,
   "metadata": {},
   "outputs": [
    {
     "name": "stdout",
     "output_type": "stream",
     "text": [
      "[[10 10 10 10]\n",
      " [10 10 10 10]\n",
      " [10 10 10 10]\n",
      " [10 10 10 10]]\n",
      "[[0. 0. 0. 0.]\n",
      " [0. 0. 0. 0.]\n",
      " [0. 0. 0. 0.]\n",
      " [0. 0. 0. 0.]]\n",
      "[[ 0.25833115  1.1507314  -0.20245618 -0.4790845 ]\n",
      " [ 1.7524781   1.1750531  -0.39403075 -1.0919354 ]\n",
      " [-1.4960189   0.42575884 -0.42641738 -1.0700595 ]\n",
      " [-1.8894049  -0.33005577  0.17525688  0.6950883 ]]\n"
     ]
    }
   ],
   "source": [
    "sess = tf.InteractiveSession()\n",
    "\n",
    "for op in my_ops:\n",
    "    print(sess.run(op))"
   ]
  },
  {
   "cell_type": "markdown",
   "metadata": {},
   "source": [
    "#### metric multiplication"
   ]
  },
  {
   "cell_type": "code",
   "execution_count": 22,
   "metadata": {},
   "outputs": [
    {
     "data": {
      "text/plain": [
       "TensorShape([Dimension(2), Dimension(2)])"
      ]
     },
     "execution_count": 22,
     "metadata": {},
     "output_type": "execute_result"
    }
   ],
   "source": [
    "a = tf.constant([[1,2],\n",
    "                [3,4]])\n",
    "a.get_shape()"
   ]
  },
  {
   "cell_type": "code",
   "execution_count": 23,
   "metadata": {},
   "outputs": [],
   "source": [
    "b = tf.constant([[10],\n",
    "                [100]])\n",
    "\n",
    "result_mut = tf.matmul(a,b)\n",
    "\n",
    "with tf.Session() as sess:\n",
    "    result = sess.run(result_mut)"
   ]
  },
  {
   "cell_type": "code",
   "execution_count": 24,
   "metadata": {},
   "outputs": [
    {
     "name": "stdout",
     "output_type": "stream",
     "text": [
      "[[210]\n",
      " [430]]\n"
     ]
    }
   ],
   "source": [
    "print(result)"
   ]
  },
  {
   "cell_type": "markdown",
   "metadata": {},
   "source": [
    "## Tensorflow Graphs"
   ]
  },
  {
   "cell_type": "markdown",
   "metadata": {},
   "source": [
    "* Graphs are sets  of connected nodes\n",
    "* The connections are referred to as edges\n",
    "* In tensorflow each node is an operation with possible inputs that can supply some output"
   ]
  },
  {
   "cell_type": "markdown",
   "metadata": {},
   "source": [
    "#### Simple graph"
   ]
  },
  {
   "cell_type": "code",
   "execution_count": 25,
   "metadata": {},
   "outputs": [
    {
     "name": "stdout",
     "output_type": "stream",
     "text": [
      "3\n"
     ]
    }
   ],
   "source": [
    "n1 = tf.constant(1)\n",
    "n2 = tf.constant(2)\n",
    "n3 = n1 + n2\n",
    "\n",
    "with tf.Session() as sess:\n",
    "    result = sess.run(n3)\n",
    "\n",
    "print (result)"
   ]
  },
  {
   "cell_type": "markdown",
   "metadata": {},
   "source": [
    "#### Select default graph"
   ]
  },
  {
   "cell_type": "code",
   "execution_count": 27,
   "metadata": {},
   "outputs": [
    {
     "name": "stdout",
     "output_type": "stream",
     "text": [
      "<tensorflow.python.framework.ops.Graph object at 0x0000024EA2A5DF48>\n"
     ]
    }
   ],
   "source": [
    "graph = tf.get_default_graph()\n",
    "print(graph)"
   ]
  },
  {
   "cell_type": "code",
   "execution_count": 29,
   "metadata": {},
   "outputs": [
    {
     "name": "stdout",
     "output_type": "stream",
     "text": [
      "True\n"
     ]
    }
   ],
   "source": [
    "with graph.as_default():\n",
    "    print(graph is tf.get_default_graph())"
   ]
  },
  {
   "cell_type": "markdown",
   "metadata": {},
   "source": [
    "#### Variables"
   ]
  },
  {
   "cell_type": "code",
   "execution_count": 45,
   "metadata": {},
   "outputs": [],
   "source": [
    "sess = tf.InteractiveSession()"
   ]
  },
  {
   "cell_type": "markdown",
   "metadata": {},
   "source": [
    "##### 1. Creating variable"
   ]
  },
  {
   "cell_type": "code",
   "execution_count": 46,
   "metadata": {},
   "outputs": [],
   "source": [
    "my_tensor = tf.random_uniform((4,4),0,1)\n",
    "\n",
    "my_var = tf.Variable(initial_value =my_tensor)"
   ]
  },
  {
   "cell_type": "markdown",
   "metadata": {},
   "source": [
    "##### 2. Initializing variable"
   ]
  },
  {
   "cell_type": "code",
   "execution_count": 47,
   "metadata": {},
   "outputs": [],
   "source": [
    "init = tf.global_variables_initializer()\n",
    "\n",
    "sess.run(init)"
   ]
  },
  {
   "cell_type": "markdown",
   "metadata": {},
   "source": [
    "##### 3. Running in the session"
   ]
  },
  {
   "cell_type": "code",
   "execution_count": 44,
   "metadata": {},
   "outputs": [
    {
     "data": {
      "text/plain": [
       "array([[0.00186956, 0.34383118, 0.2851411 , 0.00660014],\n",
       "       [0.8049712 , 0.94822514, 0.71914566, 0.6932373 ],\n",
       "       [0.606104  , 0.03423214, 0.16893184, 0.21782804],\n",
       "       [0.65050614, 0.32439995, 0.08262134, 0.04039884]], dtype=float32)"
      ]
     },
     "execution_count": 44,
     "metadata": {},
     "output_type": "execute_result"
    }
   ],
   "source": [
    "sess.run(my_var)"
   ]
  },
  {
   "cell_type": "markdown",
   "metadata": {},
   "source": [
    "##### Placeholder"
   ]
  },
  {
   "cell_type": "markdown",
   "metadata": {},
   "source": [
    "A placeholder is simply a variable that we will assign data to at a later date. It allows us to create our operations and build our computation graph, with\n",
    "out needing the data."
   ]
  },
  {
   "cell_type": "code",
   "execution_count": 37,
   "metadata": {},
   "outputs": [],
   "source": [
    "ph = tf.placeholder(tf.float32)"
   ]
  },
  {
   "cell_type": "markdown",
   "metadata": {},
   "source": [
    "## Tensorflow Neural Network"
   ]
  },
  {
   "cell_type": "markdown",
   "metadata": {},
   "source": [
    "### Example 1"
   ]
  },
  {
   "cell_type": "code",
   "execution_count": 75,
   "metadata": {},
   "outputs": [],
   "source": [
    "import numpy as np\n",
    "import tensorflow as tf"
   ]
  },
  {
   "cell_type": "code",
   "execution_count": 56,
   "metadata": {},
   "outputs": [],
   "source": [
    "np.random.seed(101)\n",
    "tf.set_random_seed(101)"
   ]
  },
  {
   "cell_type": "code",
   "execution_count": 57,
   "metadata": {},
   "outputs": [
    {
     "data": {
      "text/plain": [
       "array([[51.63986277, 57.06675869,  2.84742265, 17.15216562, 68.52769817],\n",
       "       [83.38968626, 30.69662197, 89.36130797, 72.15438618, 18.99389542],\n",
       "       [55.42275911, 35.2131954 , 18.18924027, 78.56017619, 96.54832224],\n",
       "       [23.23536618,  8.35614337, 60.35484223, 72.89927573, 27.62388285],\n",
       "       [68.53063288, 51.78674742,  4.84845374, 13.78692376, 18.69674261]])"
      ]
     },
     "execution_count": 57,
     "metadata": {},
     "output_type": "execute_result"
    }
   ],
   "source": [
    "rand_a = np.random.uniform(0,100,(5,5))\n",
    "rand_a"
   ]
  },
  {
   "cell_type": "code",
   "execution_count": 58,
   "metadata": {},
   "outputs": [
    {
     "data": {
      "text/plain": [
       "array([[99.43179012],\n",
       "       [52.06653967],\n",
       "       [57.87895355],\n",
       "       [73.48190583],\n",
       "       [54.19617722]])"
      ]
     },
     "execution_count": 58,
     "metadata": {},
     "output_type": "execute_result"
    }
   ],
   "source": [
    "rand_b = np.random.uniform(0,100,(5,1))\n",
    "rand_b"
   ]
  },
  {
   "cell_type": "markdown",
   "metadata": {},
   "source": [
    "#### Placeholders"
   ]
  },
  {
   "cell_type": "code",
   "execution_count": 59,
   "metadata": {},
   "outputs": [],
   "source": [
    "a = tf.placeholder(tf.float32)\n",
    "b = tf.placeholder(tf.float32)"
   ]
  },
  {
   "cell_type": "markdown",
   "metadata": {},
   "source": [
    "#### Operations"
   ]
  },
  {
   "cell_type": "code",
   "execution_count": 60,
   "metadata": {},
   "outputs": [],
   "source": [
    "add_op = a+b # tf.add(a,b)\n",
    "mult_op = a*b #tf.multiply(a,b)"
   ]
  },
  {
   "cell_type": "markdown",
   "metadata": {},
   "source": [
    "#### Running Sessions  to create Graphs with Feed Dictionaries"
   ]
  },
  {
   "cell_type": "code",
   "execution_count": 61,
   "metadata": {},
   "outputs": [
    {
     "name": "stdout",
     "output_type": "stream",
     "text": [
      "[[151.07166  156.49855  102.27921  116.58396  167.95949 ]\n",
      " [135.45622   82.76316  141.42784  124.22093   71.06043 ]\n",
      " [113.30171   93.09215   76.06819  136.43912  154.42728 ]\n",
      " [ 96.71727   81.83804  133.83675  146.38118  101.10579 ]\n",
      " [122.72681  105.982925  59.044632  67.9831    72.89292 ]]\n",
      "\n",
      "\n",
      "[[5134.644   5674.25     283.12433 1705.4707  6813.8315 ]\n",
      " [4341.8125  1598.267   4652.734   3756.8293   988.94635]\n",
      " [3207.8113  2038.1029  1052.7742  4546.9805  5588.1157 ]\n",
      " [1707.379    614.02527 4434.989   5356.7773  2029.8555 ]\n",
      " [3714.0984  2806.6438   262.76764  747.19855 1013.292  ]]\n"
     ]
    }
   ],
   "source": [
    "with tf.Session() as sess:\n",
    "    add_result = sess.run(add_op,feed_dict={a:rand_a,b:rand_b})\n",
    "    print(add_result)\n",
    "    \n",
    "    print('\\n')\n",
    "    \n",
    "    mult_result = sess.run(mult_op,feed_dict={a:rand_a,b:rand_b})\n",
    "    print(mult_result)"
   ]
  },
  {
   "cell_type": "markdown",
   "metadata": {},
   "source": [
    "### Example 2: creating activation function"
   ]
  },
  {
   "cell_type": "code",
   "execution_count": 62,
   "metadata": {},
   "outputs": [],
   "source": [
    "n_features = 10\n",
    "n_dense_neurons = 3"
   ]
  },
  {
   "cell_type": "code",
   "execution_count": 63,
   "metadata": {},
   "outputs": [],
   "source": [
    "# Placeholder for x\n",
    "x = tf.placeholder(tf.float32,(None,n_features))"
   ]
  },
  {
   "cell_type": "code",
   "execution_count": 64,
   "metadata": {},
   "outputs": [],
   "source": [
    "# Variables for w and b\n",
    "b = tf.Variable(tf.zeros([n_dense_neurons]))\n",
    "\n",
    "W = tf.Variable(tf.random_normal([n_features,n_dense_neurons]))"
   ]
  },
  {
   "cell_type": "markdown",
   "metadata": {},
   "source": [
    "#### Operation Activation Function "
   ]
  },
  {
   "cell_type": "code",
   "execution_count": 65,
   "metadata": {},
   "outputs": [],
   "source": [
    "xW = tf.matmul(x,W)"
   ]
  },
  {
   "cell_type": "code",
   "execution_count": 66,
   "metadata": {},
   "outputs": [],
   "source": [
    "z = tf.add(xW,b)"
   ]
  },
  {
   "cell_type": "code",
   "execution_count": 67,
   "metadata": {},
   "outputs": [],
   "source": [
    "# tf.nn.relu() or tf.tanh()\n",
    "a = tf.sigmoid(z)"
   ]
  },
  {
   "cell_type": "markdown",
   "metadata": {},
   "source": [
    "#### Variable Intializer"
   ]
  },
  {
   "cell_type": "code",
   "execution_count": 68,
   "metadata": {},
   "outputs": [],
   "source": [
    "init = tf.global_variables_initializer()"
   ]
  },
  {
   "cell_type": "code",
   "execution_count": 69,
   "metadata": {},
   "outputs": [],
   "source": [
    "with tf.Session() as sess:\n",
    "    sess.run(init)\n",
    "    \n",
    "    layer_out = sess.run(a,feed_dict={x : np.random.random([1,n_features])})"
   ]
  },
  {
   "cell_type": "code",
   "execution_count": 70,
   "metadata": {},
   "outputs": [
    {
     "name": "stdout",
     "output_type": "stream",
     "text": [
      "[[0.7159624  0.08162021 0.15817577]]\n"
     ]
    }
   ],
   "source": [
    "print(layer_out)"
   ]
  },
  {
   "cell_type": "markdown",
   "metadata": {},
   "source": [
    "### Example 3: Regression example"
   ]
  },
  {
   "cell_type": "markdown",
   "metadata": {},
   "source": [
    "#### Data"
   ]
  },
  {
   "cell_type": "code",
   "execution_count": 71,
   "metadata": {},
   "outputs": [],
   "source": [
    "x_data = np.linspace(0,10,10) + np.random.uniform(-1.5,1.5,10)"
   ]
  },
  {
   "cell_type": "code",
   "execution_count": 72,
   "metadata": {},
   "outputs": [
    {
     "data": {
      "text/plain": [
       "array([-1.20856056, -0.08034641,  2.82674411,  4.50477294,  3.42312535,\n",
       "        4.88227319,  7.18414126,  6.77068715,  9.4930023 ,  9.96290567])"
      ]
     },
     "execution_count": 72,
     "metadata": {},
     "output_type": "execute_result"
    }
   ],
   "source": [
    "x_data"
   ]
  },
  {
   "cell_type": "code",
   "execution_count": 73,
   "metadata": {},
   "outputs": [],
   "source": [
    "y_label = np.linspace(0,10,10) + np.random.uniform(-1.5,1.5,10)"
   ]
  },
  {
   "cell_type": "code",
   "execution_count": 76,
   "metadata": {},
   "outputs": [
    {
     "data": {
      "text/plain": [
       "[<matplotlib.lines.Line2D at 0x24ea4d09948>]"
      ]
     },
     "execution_count": 76,
     "metadata": {},
     "output_type": "execute_result"
    },
    {
     "data": {
      "image/png": "[encoded data removed]",
      "text/plain": [
       "<Figure size 432x288 with 1 Axes>"
      ]
     },
     "metadata": {
      "needs_background": "light"
     },
     "output_type": "display_data"
    }
   ],
   "source": [
    "from matplotlib import pyplot as plt\n",
    "plt.plot(x_data,y_label,'*')"
   ]
  },
  {
   "cell_type": "markdown",
   "metadata": {},
   "source": [
    "#### Variables"
   ]
  },
  {
   "cell_type": "code",
   "execution_count": 78,
   "metadata": {},
   "outputs": [
    {
     "data": {
      "text/plain": [
       "array([0.44236813, 0.87758732])"
      ]
     },
     "execution_count": 78,
     "metadata": {},
     "output_type": "execute_result"
    }
   ],
   "source": [
    "np.random.rand(2)"
   ]
  },
  {
   "cell_type": "code",
   "execution_count": 79,
   "metadata": {},
   "outputs": [],
   "source": [
    "m = tf.Variable(0.39)\n",
    "b = tf.Variable(0.2)"
   ]
  },
  {
   "cell_type": "markdown",
   "metadata": {},
   "source": [
    "#### Cost Function"
   ]
  },
  {
   "cell_type": "code",
   "execution_count": 80,
   "metadata": {},
   "outputs": [],
   "source": [
    "error = 0\n",
    "\n",
    "for x,y in zip(x_data,y_label):\n",
    "    \n",
    "    y_hat = m*x + b  #Our predicted value\n",
    "    \n",
    "    error += (y-y_hat)**2 # The cost we want to minimize (we'll need to use an optimization function for the minimization!)\n"
   ]
  },
  {
   "cell_type": "markdown",
   "metadata": {},
   "source": [
    "#### Optimizer"
   ]
  },
  {
   "cell_type": "code",
   "execution_count": 81,
   "metadata": {},
   "outputs": [],
   "source": [
    "optimizer = tf.train.GradientDescentOptimizer(learning_rate=0.001)\n",
    "train = optimizer.minimize(error)"
   ]
  },
  {
   "cell_type": "markdown",
   "metadata": {},
   "source": [
    "#### Initialize Variables"
   ]
  },
  {
   "cell_type": "code",
   "execution_count": 82,
   "metadata": {},
   "outputs": [],
   "source": [
    "init = tf.global_variables_initializer()"
   ]
  },
  {
   "cell_type": "markdown",
   "metadata": {},
   "source": [
    "#### Create Session"
   ]
  },
  {
   "cell_type": "code",
   "execution_count": 83,
   "metadata": {},
   "outputs": [],
   "source": [
    "with tf.Session() as sess:\n",
    "    \n",
    "    sess.run(init)\n",
    "    \n",
    "    epochs = 100\n",
    "    \n",
    "    for i in range(epochs):\n",
    "        \n",
    "        sess.run(train)\n",
    "        \n",
    "\n",
    "    # Fetch Back Results\n",
    "    final_slope , final_intercept = sess.run([m,b])"
   ]
  },
  {
   "cell_type": "code",
   "execution_count": 84,
   "metadata": {},
   "outputs": [
    {
     "data": {
      "text/plain": [
       "0.79804665"
      ]
     },
     "execution_count": 84,
     "metadata": {},
     "output_type": "execute_result"
    }
   ],
   "source": [
    "final_slope"
   ]
  },
  {
   "cell_type": "code",
   "execution_count": 85,
   "metadata": {},
   "outputs": [
    {
     "data": {
      "text/plain": [
       "0.5121294"
      ]
     },
     "execution_count": 85,
     "metadata": {},
     "output_type": "execute_result"
    }
   ],
   "source": [
    "final_intercept"
   ]
  },
  {
   "cell_type": "markdown",
   "metadata": {},
   "source": [
    "#### Evaluate Results"
   ]
  },
  {
   "cell_type": "code",
   "execution_count": 86,
   "metadata": {},
   "outputs": [
    {
     "data": {
      "text/plain": [
       "[<matplotlib.lines.Line2D at 0x24eab029b48>]"
      ]
     },
     "execution_count": 86,
     "metadata": {},
     "output_type": "execute_result"
    },
    {
     "data": {
      "image/png": "[encoded data removed]",
      "text/plain": [
       "<Figure size 432x288 with 1 Axes>"
      ]
     },
     "metadata": {
      "needs_background": "light"
     },
     "output_type": "display_data"
    }
   ],
   "source": [
    "x_test = np.linspace(-1,11,10)\n",
    "y_pred_plot = final_slope*x_test + final_intercept\n",
    "\n",
    "plt.plot(x_test,y_pred_plot,'r')\n",
    "\n",
    "plt.plot(x_data,y_label,'*')"
   ]
  },
  {
   "cell_type": "markdown",
   "metadata": {},
   "source": [
    "### Example 3: Regression example - large dataset"
   ]
  },
  {
   "cell_type": "code",
   "execution_count": 1,
   "metadata": {},
   "outputs": [
    {
     "name": "stderr",
     "output_type": "stream",
     "text": [
      "C:\\Users\\Sampayo\\anaconda3\\lib\\site-packages\\tensorflow\\python\\framework\\dtypes.py:526: FutureWarning: Passing (type, 1) or '1type' as a synonym of type is deprecated; in a future version of numpy, it will be understood as (type, (1,)) / '(1,)type'.\n",
      "  _np_qint8 = np.dtype([(\"qint8\", np.int8, 1)])\n",
      "C:\\Users\\Sampayo\\anaconda3\\lib\\site-packages\\tensorflow\\python\\framework\\dtypes.py:527: FutureWarning: Passing (type, 1) or '1type' as a synonym of type is deprecated; in a future version of numpy, it will be understood as (type, (1,)) / '(1,)type'.\n",
      "  _np_quint8 = np.dtype([(\"quint8\", np.uint8, 1)])\n",
      "C:\\Users\\Sampayo\\anaconda3\\lib\\site-packages\\tensorflow\\python\\framework\\dtypes.py:528: FutureWarning: Passing (type, 1) or '1type' as a synonym of type is deprecated; in a future version of numpy, it will be understood as (type, (1,)) / '(1,)type'.\n",
      "  _np_qint16 = np.dtype([(\"qint16\", np.int16, 1)])\n",
      "C:\\Users\\Sampayo\\anaconda3\\lib\\site-packages\\tensorflow\\python\\framework\\dtypes.py:529: FutureWarning: Passing (type, 1) or '1type' as a synonym of type is deprecated; in a future version of numpy, it will be understood as (type, (1,)) / '(1,)type'.\n",
      "  _np_quint16 = np.dtype([(\"quint16\", np.uint16, 1)])\n",
      "C:\\Users\\Sampayo\\anaconda3\\lib\\site-packages\\tensorflow\\python\\framework\\dtypes.py:530: FutureWarning: Passing (type, 1) or '1type' as a synonym of type is deprecated; in a future version of numpy, it will be understood as (type, (1,)) / '(1,)type'.\n",
      "  _np_qint32 = np.dtype([(\"qint32\", np.int32, 1)])\n",
      "C:\\Users\\Sampayo\\anaconda3\\lib\\site-packages\\tensorflow\\python\\framework\\dtypes.py:535: FutureWarning: Passing (type, 1) or '1type' as a synonym of type is deprecated; in a future version of numpy, it will be understood as (type, (1,)) / '(1,)type'.\n",
      "  np_resource = np.dtype([(\"resource\", np.ubyte, 1)])\n"
     ]
    }
   ],
   "source": [
    "import tensorflow as tf\n",
    "import numpy as np\n",
    "import pandas as pd\n",
    "from matplotlib import pyplot as plt\n",
    "%matplotlib inline"
   ]
  },
  {
   "cell_type": "markdown",
   "metadata": {},
   "source": [
    "#### Data"
   ]
  },
  {
   "cell_type": "code",
   "execution_count": 14,
   "metadata": {},
   "outputs": [],
   "source": [
    "X = np.linspace(0.0,10.0,1000000)\n",
    "noise = np.random.randn(len(X))"
   ]
  },
  {
   "cell_type": "markdown",
   "metadata": {},
   "source": [
    "y = mx + b\n",
    "\n",
    "b = 5"
   ]
  },
  {
   "cell_type": "code",
   "execution_count": 15,
   "metadata": {},
   "outputs": [],
   "source": [
    "y_true = (0.5*X) + 5 + noise"
   ]
  },
  {
   "cell_type": "code",
   "execution_count": 51,
   "metadata": {},
   "outputs": [],
   "source": [
    "x_df = pd.DataFrame(data = X, columns = ['X'])\n",
    "y_df = pd.DataFrame(data = y_true, columns = ['Y'])\n",
    "df = pd.concat([x_df,y_df], axis = 1)"
   ]
  },
  {
   "cell_type": "code",
   "execution_count": 52,
   "metadata": {},
   "outputs": [
    {
     "data": {
      "text/html": [
       "<div>\n",
       "<style scoped>\n",
       "    .dataframe tbody tr th:only-of-type {\n",
       "        vertical-align: middle;\n",
       "    }\n",
       "\n",
       "    .dataframe tbody tr th {\n",
       "        vertical-align: top;\n",
       "    }\n",
       "\n",
       "    .dataframe thead th {\n",
       "        text-align: right;\n",
       "    }\n",
       "</style>\n",
       "<table border=\"1\" class=\"dataframe\">\n",
       "  <thead>\n",
       "    <tr style=\"text-align: right;\">\n",
       "      <th></th>\n",
       "      <th>X</th>\n",
       "      <th>Y</th>\n",
       "    </tr>\n",
       "  </thead>\n",
       "  <tbody>\n",
       "    <tr>\n",
       "      <th>0</th>\n",
       "      <td>0.00000</td>\n",
       "      <td>5.008815</td>\n",
       "    </tr>\n",
       "    <tr>\n",
       "      <th>1</th>\n",
       "      <td>0.00001</td>\n",
       "      <td>4.790283</td>\n",
       "    </tr>\n",
       "    <tr>\n",
       "      <th>2</th>\n",
       "      <td>0.00002</td>\n",
       "      <td>4.775394</td>\n",
       "    </tr>\n",
       "    <tr>\n",
       "      <th>3</th>\n",
       "      <td>0.00003</td>\n",
       "      <td>3.958908</td>\n",
       "    </tr>\n",
       "    <tr>\n",
       "      <th>4</th>\n",
       "      <td>0.00004</td>\n",
       "      <td>4.634668</td>\n",
       "    </tr>\n",
       "  </tbody>\n",
       "</table>\n",
       "</div>"
      ],
      "text/plain": [
       "         X         Y\n",
       "0  0.00000  5.008815\n",
       "1  0.00001  4.790283\n",
       "2  0.00002  4.775394\n",
       "3  0.00003  3.958908\n",
       "4  0.00004  4.634668"
      ]
     },
     "execution_count": 52,
     "metadata": {},
     "output_type": "execute_result"
    }
   ],
   "source": [
    "df.head()"
   ]
  },
  {
   "cell_type": "code",
   "execution_count": 53,
   "metadata": {},
   "outputs": [
    {
     "data": {
      "text/plain": [
       "<matplotlib.axes._subplots.AxesSubplot at 0x256324b6e08>"
      ]
     },
     "execution_count": 53,
     "metadata": {},
     "output_type": "execute_result"
    },
    {
     "data": {
      "image/png": "[encoded data removed]",
      "text/plain": [
       "<Figure size 432x288 with 1 Axes>"
      ]
     },
     "metadata": {
      "needs_background": "light"
     },
     "output_type": "display_data"
    }
   ],
   "source": [
    "df.sample(n=250).plot(kind = 'scatter',x = 'X', y = 'Y')"
   ]
  },
  {
   "cell_type": "code",
   "execution_count": 54,
   "metadata": {},
   "outputs": [],
   "source": [
    "batch_size = 8 # depend on your data"
   ]
  },
  {
   "cell_type": "code",
   "execution_count": 55,
   "metadata": {},
   "outputs": [
    {
     "data": {
      "text/plain": [
       "array([1.04461878, 0.59729029])"
      ]
     },
     "execution_count": 55,
     "metadata": {},
     "output_type": "execute_result"
    }
   ],
   "source": [
    "np.random.randn(2)"
   ]
  },
  {
   "cell_type": "markdown",
   "metadata": {},
   "source": [
    "### Build regression Model: y = mx + b"
   ]
  },
  {
   "cell_type": "markdown",
   "metadata": {},
   "source": [
    "#### 1. Create Variables"
   ]
  },
  {
   "cell_type": "code",
   "execution_count": 56,
   "metadata": {},
   "outputs": [],
   "source": [
    "# Initialize slop and intercept\n",
    "m = tf.Variable(1.04)\n",
    "b = tf.Variable(0.59)"
   ]
  },
  {
   "cell_type": "markdown",
   "metadata": {},
   "source": [
    "#### 2. Create placeholder"
   ]
  },
  {
   "cell_type": "code",
   "execution_count": 57,
   "metadata": {},
   "outputs": [],
   "source": [
    "xph = tf.placeholder(tf.float32, [batch_size])\n",
    "yph = tf.placeholder(tf.float32, [batch_size])"
   ]
  },
  {
   "cell_type": "markdown",
   "metadata": {},
   "source": [
    "#### 3. Define graph - operation"
   ]
  },
  {
   "cell_type": "code",
   "execution_count": 58,
   "metadata": {},
   "outputs": [],
   "source": [
    "y_model = m*xph+b"
   ]
  },
  {
   "cell_type": "markdown",
   "metadata": {},
   "source": [
    "#### 4. Loss/Cost function"
   ]
  },
  {
   "cell_type": "code",
   "execution_count": 59,
   "metadata": {},
   "outputs": [],
   "source": [
    "error = tf.reduce_sum(tf.square(yph-y_model))"
   ]
  },
  {
   "cell_type": "markdown",
   "metadata": {},
   "source": [
    "#### 5. Create optimazer"
   ]
  },
  {
   "cell_type": "code",
   "execution_count": 60,
   "metadata": {},
   "outputs": [],
   "source": [
    "optimizer = tf.train.GradientDescentOptimizer(learning_rate = 0.001)\n",
    "train = optimizer.minimize(error)"
   ]
  },
  {
   "cell_type": "markdown",
   "metadata": {},
   "source": [
    "#### 6. Initilize variables and run session"
   ]
  },
  {
   "cell_type": "code",
   "execution_count": 61,
   "metadata": {},
   "outputs": [],
   "source": [
    "init = tf.global_variables_initializer()"
   ]
  },
  {
   "cell_type": "code",
   "execution_count": 67,
   "metadata": {},
   "outputs": [],
   "source": [
    "with tf.Session() as sess:\n",
    "    \n",
    "    sess.run(init)\n",
    "    \n",
    "    batches = 1000 #each batch are data points\n",
    "    \n",
    "    for i in range(batches):\n",
    "        \n",
    "        rand_ind = np.random.randint(len(X),size=batch_size) #getting random index datapoints (batch size = 8, 8 points)\n",
    "        \n",
    "        feed = {xph:X[rand_ind],yph:y_true[rand_ind]} #feed dictionary: x data point and y label\n",
    "        \n",
    "        sess.run(train,feed_dict=feed) #running training optimizer\n",
    "        \n",
    "    model_m,model_b = sess.run([m,b])\n",
    "        "
   ]
  },
  {
   "cell_type": "code",
   "execution_count": 68,
   "metadata": {},
   "outputs": [
    {
     "data": {
      "text/plain": [
       "0.42341983"
      ]
     },
     "execution_count": 68,
     "metadata": {},
     "output_type": "execute_result"
    }
   ],
   "source": [
    "model_m"
   ]
  },
  {
   "cell_type": "code",
   "execution_count": 69,
   "metadata": {},
   "outputs": [
    {
     "data": {
      "text/plain": [
       "4.8932867"
      ]
     },
     "execution_count": 69,
     "metadata": {},
     "output_type": "execute_result"
    }
   ],
   "source": [
    "model_b"
   ]
  },
  {
   "cell_type": "code",
   "execution_count": 70,
   "metadata": {},
   "outputs": [],
   "source": [
    "y_hat = X+model_m + model_b"
   ]
  },
  {
   "cell_type": "code",
   "execution_count": 71,
   "metadata": {},
   "outputs": [
    {
     "data": {
      "text/plain": [
       "[<matplotlib.lines.Line2D at 0x2563262aa48>]"
      ]
     },
     "execution_count": 71,
     "metadata": {},
     "output_type": "execute_result"
    },
    {
     "data": {
      "image/png": "[encoded data removed]",
      "text/plain": [
       "<Figure size 432x288 with 1 Axes>"
      ]
     },
     "metadata": {
      "needs_background": "light"
     },
     "output_type": "display_data"
    }
   ],
   "source": [
    "df.sample(n=250).plot(kind = 'scatter',x = 'X', y = 'Y')\n",
    "plt.plot(X,y_hat, 'r')"
   ]
  },
  {
   "cell_type": "markdown",
   "metadata": {},
   "source": [
    "### TF Estimator: Linear regression"
   ]
  },
  {
   "cell_type": "code",
   "execution_count": 72,
   "metadata": {},
   "outputs": [],
   "source": [
    "feat_cols = [tf.feature_column.numeric_column('x',shape=[1])]"
   ]
  },
  {
   "cell_type": "code",
   "execution_count": 73,
   "metadata": {},
   "outputs": [
    {
     "name": "stdout",
     "output_type": "stream",
     "text": [
      "INFO:tensorflow:Using default config.\n",
      "WARNING:tensorflow:Using temporary folder as model directory: C:\\Users\\Sampayo\\AppData\\Local\\Temp\\tmpwijiwa2x\n",
      "INFO:tensorflow:Using config: {'_model_dir': 'C:\\\\Users\\\\Sampayo\\\\AppData\\\\Local\\\\Temp\\\\tmpwijiwa2x', '_tf_random_seed': None, '_save_summary_steps': 100, '_save_checkpoints_steps': None, '_save_checkpoints_secs': 600, '_session_config': allow_soft_placement: true\n",
      "graph_options {\n",
      "  rewrite_options {\n",
      "    meta_optimizer_iterations: ONE\n",
      "  }\n",
      "}\n",
      ", '_keep_checkpoint_max': 5, '_keep_checkpoint_every_n_hours': 10000, '_log_step_count_steps': 100, '_train_distribute': None, '_device_fn': None, '_protocol': None, '_eval_distribute': None, '_experimental_distribute': None, '_service': None, '_cluster_spec': <tensorflow.python.training.server_lib.ClusterSpec object at 0x0000025632523408>, '_task_type': 'worker', '_task_id': 0, '_global_id_in_cluster': 0, '_master': '', '_evaluation_master': '', '_is_chief': True, '_num_ps_replicas': 0, '_num_worker_replicas': 1}\n"
     ]
    }
   ],
   "source": [
    "estimator = tf.estimator.LinearRegressor(feature_columns=feat_cols)"
   ]
  },
  {
   "cell_type": "markdown",
   "metadata": {},
   "source": [
    "#### Train Test Split\n"
   ]
  },
  {
   "cell_type": "code",
   "execution_count": 74,
   "metadata": {},
   "outputs": [],
   "source": [
    "from sklearn.model_selection import train_test_split"
   ]
  },
  {
   "cell_type": "code",
   "execution_count": 76,
   "metadata": {},
   "outputs": [],
   "source": [
    "x_train, x_eval, y_train, y_eval = train_test_split(X,y_true,test_size=0.3, random_state = 101)"
   ]
  },
  {
   "cell_type": "code",
   "execution_count": 78,
   "metadata": {},
   "outputs": [
    {
     "name": "stdout",
     "output_type": "stream",
     "text": [
      "(700000,)\n",
      "(700000,)\n",
      "(300000,)\n",
      "(300000,)\n"
     ]
    }
   ],
   "source": [
    "print(x_train.shape)\n",
    "print(y_train.shape)\n",
    "\n",
    "print(x_eval.shape)\n",
    "print(y_eval.shape)"
   ]
  },
  {
   "cell_type": "markdown",
   "metadata": {},
   "source": [
    "#### Set up Estimator Inputs"
   ]
  },
  {
   "cell_type": "code",
   "execution_count": 79,
   "metadata": {},
   "outputs": [],
   "source": [
    "# Can also do .pandas_input_fn\n",
    "input_func = tf.estimator.inputs.numpy_input_fn({'x':x_train},y_train,batch_size=4,num_epochs=None,shuffle=True)"
   ]
  },
  {
   "cell_type": "code",
   "execution_count": 80,
   "metadata": {},
   "outputs": [],
   "source": [
    "train_input_func = tf.estimator.inputs.numpy_input_fn({'x':x_train},y_train,batch_size=4,num_epochs=1000,shuffle=False)"
   ]
  },
  {
   "cell_type": "code",
   "execution_count": 81,
   "metadata": {},
   "outputs": [],
   "source": [
    "eval_input_func = tf.estimator.inputs.numpy_input_fn({'x':x_eval},y_eval,batch_size=4,num_epochs=1000,shuffle=False)"
   ]
  },
  {
   "cell_type": "markdown",
   "metadata": {},
   "source": [
    "#### Train the Estimator"
   ]
  },
  {
   "cell_type": "code",
   "execution_count": 82,
   "metadata": {},
   "outputs": [
    {
     "name": "stdout",
     "output_type": "stream",
     "text": [
      "WARNING:tensorflow:From C:\\Users\\Sampayo\\anaconda3\\lib\\site-packages\\tensorflow_estimator\\python\\estimator\\inputs\\queues\\feeding_queue_runner.py:62: QueueRunner.__init__ (from tensorflow.python.training.queue_runner_impl) is deprecated and will be removed in a future version.\n",
      "Instructions for updating:\n",
      "To construct input pipelines, use the `tf.data` module.\n",
      "WARNING:tensorflow:From C:\\Users\\Sampayo\\anaconda3\\lib\\site-packages\\tensorflow_estimator\\python\\estimator\\inputs\\queues\\feeding_functions.py:500: add_queue_runner (from tensorflow.python.training.queue_runner_impl) is deprecated and will be removed in a future version.\n",
      "Instructions for updating:\n",
      "To construct input pipelines, use the `tf.data` module.\n",
      "INFO:tensorflow:Calling model_fn.\n",
      "WARNING:tensorflow:From C:\\Users\\Sampayo\\anaconda3\\lib\\site-packages\\tensorflow\\python\\feature_column\\feature_column_v2.py:2703: to_float (from tensorflow.python.ops.math_ops) is deprecated and will be removed in a future version.\n",
      "Instructions for updating:\n",
      "Use tf.cast instead.\n",
      "INFO:tensorflow:Done calling model_fn.\n",
      "INFO:tensorflow:Create CheckpointSaverHook.\n",
      "INFO:tensorflow:Graph was finalized.\n",
      "INFO:tensorflow:Running local_init_op.\n",
      "INFO:tensorflow:Done running local_init_op.\n",
      "WARNING:tensorflow:From C:\\Users\\Sampayo\\anaconda3\\lib\\site-packages\\tensorflow\\python\\training\\monitored_session.py:809: start_queue_runners (from tensorflow.python.training.queue_runner_impl) is deprecated and will be removed in a future version.\n",
      "Instructions for updating:\n",
      "To construct input pipelines, use the `tf.data` module.\n",
      "INFO:tensorflow:Saving checkpoints for 0 into C:\\Users\\Sampayo\\AppData\\Local\\Temp\\tmpwijiwa2x\\model.ckpt.\n",
      "INFO:tensorflow:loss = 206.52106, step = 1\n",
      "INFO:tensorflow:global_step/sec: 1176.85\n",
      "INFO:tensorflow:loss = 11.130844, step = 101 (0.085 sec)\n",
      "INFO:tensorflow:global_step/sec: 1899.87\n",
      "INFO:tensorflow:loss = 20.204542, step = 201 (0.054 sec)\n",
      "INFO:tensorflow:global_step/sec: 1887.39\n",
      "INFO:tensorflow:loss = 5.077881, step = 301 (0.053 sec)\n",
      "INFO:tensorflow:global_step/sec: 1695.48\n",
      "INFO:tensorflow:loss = 7.5295672, step = 401 (0.059 sec)\n",
      "INFO:tensorflow:global_step/sec: 1563.01\n",
      "INFO:tensorflow:loss = 3.7116501, step = 501 (0.063 sec)\n",
      "INFO:tensorflow:global_step/sec: 1923.7\n",
      "INFO:tensorflow:loss = 20.331718, step = 601 (0.053 sec)\n",
      "INFO:tensorflow:global_step/sec: 1818.75\n",
      "INFO:tensorflow:loss = 6.202747, step = 701 (0.054 sec)\n",
      "INFO:tensorflow:global_step/sec: 2128.4\n",
      "INFO:tensorflow:loss = 4.5409026, step = 801 (0.048 sec)\n",
      "INFO:tensorflow:global_step/sec: 1786.25\n",
      "INFO:tensorflow:loss = 4.6057625, step = 901 (0.055 sec)\n",
      "INFO:tensorflow:Saving checkpoints for 1000 into C:\\Users\\Sampayo\\AppData\\Local\\Temp\\tmpwijiwa2x\\model.ckpt.\n",
      "INFO:tensorflow:Loss for final step: 2.6454797.\n"
     ]
    },
    {
     "data": {
      "text/plain": [
       "<tensorflow_estimator.python.estimator.canned.linear.LinearRegressor at 0x2563265ad08>"
      ]
     },
     "execution_count": 82,
     "metadata": {},
     "output_type": "execute_result"
    }
   ],
   "source": [
    "estimator.train(input_fn=input_func,steps=1000)"
   ]
  },
  {
   "cell_type": "markdown",
   "metadata": {},
   "source": [
    "#### Evaluation"
   ]
  },
  {
   "cell_type": "code",
   "execution_count": 83,
   "metadata": {},
   "outputs": [
    {
     "name": "stdout",
     "output_type": "stream",
     "text": [
      "INFO:tensorflow:Calling model_fn.\n",
      "INFO:tensorflow:Done calling model_fn.\n",
      "INFO:tensorflow:Starting evaluation at 2020-05-06T08:31:35Z\n",
      "INFO:tensorflow:Graph was finalized.\n",
      "WARNING:tensorflow:From C:\\Users\\Sampayo\\anaconda3\\lib\\site-packages\\tensorflow\\python\\training\\saver.py:1266: checkpoint_exists (from tensorflow.python.training.checkpoint_management) is deprecated and will be removed in a future version.\n",
      "Instructions for updating:\n",
      "Use standard file APIs to check for files with this prefix.\n",
      "INFO:tensorflow:Restoring parameters from C:\\Users\\Sampayo\\AppData\\Local\\Temp\\tmpwijiwa2x\\model.ckpt-1000\n",
      "INFO:tensorflow:Running local_init_op.\n",
      "INFO:tensorflow:Done running local_init_op.\n",
      "INFO:tensorflow:Evaluation [100/1000]\n",
      "INFO:tensorflow:Evaluation [200/1000]\n",
      "INFO:tensorflow:Evaluation [300/1000]\n",
      "INFO:tensorflow:Evaluation [400/1000]\n",
      "INFO:tensorflow:Evaluation [500/1000]\n",
      "INFO:tensorflow:Evaluation [600/1000]\n",
      "INFO:tensorflow:Evaluation [700/1000]\n",
      "INFO:tensorflow:Evaluation [800/1000]\n",
      "INFO:tensorflow:Evaluation [900/1000]\n",
      "INFO:tensorflow:Evaluation [1000/1000]\n",
      "INFO:tensorflow:Finished evaluation at 2020-05-06-08:31:36\n",
      "INFO:tensorflow:Saving dict for global step 1000: average_loss = 1.118432, global_step = 1000, label/mean = 7.53173, loss = 4.473728, prediction/mean = 7.413954\n",
      "INFO:tensorflow:Saving 'checkpoint_path' summary for global step 1000: C:\\Users\\Sampayo\\AppData\\Local\\Temp\\tmpwijiwa2x\\model.ckpt-1000\n"
     ]
    }
   ],
   "source": [
    "train_metrics = estimator.evaluate(input_fn=train_input_func,steps=1000)"
   ]
  },
  {
   "cell_type": "code",
   "execution_count": 84,
   "metadata": {},
   "outputs": [
    {
     "name": "stdout",
     "output_type": "stream",
     "text": [
      "INFO:tensorflow:Calling model_fn.\n",
      "INFO:tensorflow:Done calling model_fn.\n",
      "INFO:tensorflow:Starting evaluation at 2020-05-06T08:31:37Z\n",
      "INFO:tensorflow:Graph was finalized.\n",
      "INFO:tensorflow:Restoring parameters from C:\\Users\\Sampayo\\AppData\\Local\\Temp\\tmpwijiwa2x\\model.ckpt-1000\n",
      "INFO:tensorflow:Running local_init_op.\n",
      "INFO:tensorflow:Done running local_init_op.\n",
      "INFO:tensorflow:Evaluation [100/1000]\n",
      "INFO:tensorflow:Evaluation [200/1000]\n",
      "INFO:tensorflow:Evaluation [300/1000]\n",
      "INFO:tensorflow:Evaluation [400/1000]\n",
      "INFO:tensorflow:Evaluation [500/1000]\n",
      "INFO:tensorflow:Evaluation [600/1000]\n",
      "INFO:tensorflow:Evaluation [700/1000]\n",
      "INFO:tensorflow:Evaluation [800/1000]\n",
      "INFO:tensorflow:Evaluation [900/1000]\n",
      "INFO:tensorflow:Evaluation [1000/1000]\n",
      "INFO:tensorflow:Finished evaluation at 2020-05-06-08:31:38\n",
      "INFO:tensorflow:Saving dict for global step 1000: average_loss = 1.1035088, global_step = 1000, label/mean = 7.490699, loss = 4.4140353, prediction/mean = 7.3744144\n",
      "INFO:tensorflow:Saving 'checkpoint_path' summary for global step 1000: C:\\Users\\Sampayo\\AppData\\Local\\Temp\\tmpwijiwa2x\\model.ckpt-1000\n"
     ]
    }
   ],
   "source": [
    "eval_metrics = estimator.evaluate(input_fn=eval_input_func,steps=1000)"
   ]
  },
  {
   "cell_type": "code",
   "execution_count": 85,
   "metadata": {},
   "outputs": [
    {
     "name": "stdout",
     "output_type": "stream",
     "text": [
      "train metrics: {'average_loss': 1.118432, 'label/mean': 7.53173, 'loss': 4.473728, 'prediction/mean': 7.413954, 'global_step': 1000}\n",
      "eval metrics: {'average_loss': 1.1035088, 'label/mean': 7.490699, 'loss': 4.4140353, 'prediction/mean': 7.3744144, 'global_step': 1000}\n"
     ]
    }
   ],
   "source": [
    "print(\"train metrics: {}\".format(train_metrics))\n",
    "print(\"eval metrics: {}\".format(eval_metrics))"
   ]
  },
  {
   "cell_type": "markdown",
   "metadata": {},
   "source": [
    "Eval is good if loss in train and eval are similar"
   ]
  },
  {
   "cell_type": "markdown",
   "metadata": {},
   "source": [
    "#### Predictions"
   ]
  },
  {
   "cell_type": "code",
   "execution_count": 86,
   "metadata": {},
   "outputs": [],
   "source": [
    "input_fn_predict = tf.estimator.inputs.numpy_input_fn({'x':np.linspace(0,10,10)},shuffle=False)"
   ]
  },
  {
   "cell_type": "code",
   "execution_count": 87,
   "metadata": {},
   "outputs": [
    {
     "name": "stdout",
     "output_type": "stream",
     "text": [
      "INFO:tensorflow:Calling model_fn.\n",
      "INFO:tensorflow:Done calling model_fn.\n",
      "INFO:tensorflow:Graph was finalized.\n",
      "INFO:tensorflow:Restoring parameters from C:\\Users\\Sampayo\\AppData\\Local\\Temp\\tmpwijiwa2x\\model.ckpt-1000\n",
      "INFO:tensorflow:Running local_init_op.\n",
      "INFO:tensorflow:Done running local_init_op.\n"
     ]
    },
    {
     "data": {
      "text/plain": [
       "[{'predictions': array([4.368708], dtype=float32)},\n",
       " {'predictions': array([5.041403], dtype=float32)},\n",
       " {'predictions': array([5.7140975], dtype=float32)},\n",
       " {'predictions': array([6.386792], dtype=float32)},\n",
       " {'predictions': array([7.0594873], dtype=float32)},\n",
       " {'predictions': array([7.7321815], dtype=float32)},\n",
       " {'predictions': array([8.404877], dtype=float32)},\n",
       " {'predictions': array([9.077571], dtype=float32)},\n",
       " {'predictions': array([9.750266], dtype=float32)},\n",
       " {'predictions': array([10.42296], dtype=float32)}]"
      ]
     },
     "execution_count": 87,
     "metadata": {},
     "output_type": "execute_result"
    }
   ],
   "source": [
    "list(estimator.predict(input_fn=input_fn_predict))"
   ]
  },
  {
   "cell_type": "code",
   "execution_count": 88,
   "metadata": {},
   "outputs": [
    {
     "name": "stdout",
     "output_type": "stream",
     "text": [
      "INFO:tensorflow:Calling model_fn.\n",
      "INFO:tensorflow:Done calling model_fn.\n",
      "INFO:tensorflow:Graph was finalized.\n",
      "INFO:tensorflow:Restoring parameters from C:\\Users\\Sampayo\\AppData\\Local\\Temp\\tmpwijiwa2x\\model.ckpt-1000\n",
      "INFO:tensorflow:Running local_init_op.\n",
      "INFO:tensorflow:Done running local_init_op.\n"
     ]
    }
   ],
   "source": [
    "predictions = []# np.array([])\n",
    "for x in estimator.predict(input_fn=input_fn_predict):\n",
    "    predictions.append(x['predictions'])"
   ]
  },
  {
   "cell_type": "code",
   "execution_count": 89,
   "metadata": {},
   "outputs": [
    {
     "data": {
      "text/plain": [
       "[array([4.368708], dtype=float32),\n",
       " array([5.041403], dtype=float32),\n",
       " array([5.7140975], dtype=float32),\n",
       " array([6.386792], dtype=float32),\n",
       " array([7.0594873], dtype=float32),\n",
       " array([7.7321815], dtype=float32),\n",
       " array([8.404877], dtype=float32),\n",
       " array([9.077571], dtype=float32),\n",
       " array([9.750266], dtype=float32),\n",
       " array([10.42296], dtype=float32)]"
      ]
     },
     "execution_count": 89,
     "metadata": {},
     "output_type": "execute_result"
    }
   ],
   "source": [
    "predictions"
   ]
  },
  {
   "cell_type": "code",
   "execution_count": 92,
   "metadata": {},
   "outputs": [
    {
     "data": {
      "text/plain": [
       "[<matplotlib.lines.Line2D at 0x25649fd8ec8>]"
      ]
     },
     "execution_count": 92,
     "metadata": {},
     "output_type": "execute_result"
    },
    {
     "data": {
      "image/png": "[encoded data removed]",
      "text/plain": [
       "<Figure size 432x288 with 1 Axes>"
      ]
     },
     "metadata": {
      "needs_background": "light"
     },
     "output_type": "display_data"
    }
   ],
   "source": [
    "df.sample(n=250).plot(kind='scatter',x='X',y='Y')\n",
    "plt.plot(np.linspace(0,10,10),predictions,'r')"
   ]
  },
  {
   "cell_type": "markdown",
   "metadata": {},
   "source": [
    "### Tensorflow Classification"
   ]
  },
  {
   "cell_type": "code",
   "execution_count": 96,
   "metadata": {},
   "outputs": [],
   "source": [
    "import pandas as pd"
   ]
  },
  {
   "cell_type": "code",
   "execution_count": 97,
   "metadata": {},
   "outputs": [],
   "source": [
    "diabetes = pd.read_csv('E:\\\\Datasets\\\\pima-indians-diabetes.csv')"
   ]
  },
  {
   "cell_type": "code",
   "execution_count": 98,
   "metadata": {},
   "outputs": [
    {
     "data": {
      "text/html": [
       "<div>\n",
       "<style scoped>\n",
       "    .dataframe tbody tr th:only-of-type {\n",
       "        vertical-align: middle;\n",
       "    }\n",
       "\n",
       "    .dataframe tbody tr th {\n",
       "        vertical-align: top;\n",
       "    }\n",
       "\n",
       "    .dataframe thead th {\n",
       "        text-align: right;\n",
       "    }\n",
       "</style>\n",
       "<table border=\"1\" class=\"dataframe\">\n",
       "  <thead>\n",
       "    <tr style=\"text-align: right;\">\n",
       "      <th></th>\n",
       "      <th>Number_pregnant</th>\n",
       "      <th>Glucose_concentration</th>\n",
       "      <th>Blood_pressure</th>\n",
       "      <th>Triceps</th>\n",
       "      <th>Insulin</th>\n",
       "      <th>BMI</th>\n",
       "      <th>Pedigree</th>\n",
       "      <th>Age</th>\n",
       "      <th>Class</th>\n",
       "      <th>Group</th>\n",
       "    </tr>\n",
       "  </thead>\n",
       "  <tbody>\n",
       "    <tr>\n",
       "      <th>0</th>\n",
       "      <td>6</td>\n",
       "      <td>0.743719</td>\n",
       "      <td>0.590164</td>\n",
       "      <td>0.353535</td>\n",
       "      <td>0.000000</td>\n",
       "      <td>0.500745</td>\n",
       "      <td>0.234415</td>\n",
       "      <td>50</td>\n",
       "      <td>1</td>\n",
       "      <td>B</td>\n",
       "    </tr>\n",
       "    <tr>\n",
       "      <th>1</th>\n",
       "      <td>1</td>\n",
       "      <td>0.427136</td>\n",
       "      <td>0.540984</td>\n",
       "      <td>0.292929</td>\n",
       "      <td>0.000000</td>\n",
       "      <td>0.396423</td>\n",
       "      <td>0.116567</td>\n",
       "      <td>31</td>\n",
       "      <td>0</td>\n",
       "      <td>C</td>\n",
       "    </tr>\n",
       "    <tr>\n",
       "      <th>2</th>\n",
       "      <td>8</td>\n",
       "      <td>0.919598</td>\n",
       "      <td>0.524590</td>\n",
       "      <td>0.000000</td>\n",
       "      <td>0.000000</td>\n",
       "      <td>0.347243</td>\n",
       "      <td>0.253629</td>\n",
       "      <td>32</td>\n",
       "      <td>1</td>\n",
       "      <td>B</td>\n",
       "    </tr>\n",
       "    <tr>\n",
       "      <th>3</th>\n",
       "      <td>1</td>\n",
       "      <td>0.447236</td>\n",
       "      <td>0.540984</td>\n",
       "      <td>0.232323</td>\n",
       "      <td>0.111111</td>\n",
       "      <td>0.418778</td>\n",
       "      <td>0.038002</td>\n",
       "      <td>21</td>\n",
       "      <td>0</td>\n",
       "      <td>B</td>\n",
       "    </tr>\n",
       "    <tr>\n",
       "      <th>4</th>\n",
       "      <td>0</td>\n",
       "      <td>0.688442</td>\n",
       "      <td>0.327869</td>\n",
       "      <td>0.353535</td>\n",
       "      <td>0.198582</td>\n",
       "      <td>0.642325</td>\n",
       "      <td>0.943638</td>\n",
       "      <td>33</td>\n",
       "      <td>1</td>\n",
       "      <td>C</td>\n",
       "    </tr>\n",
       "  </tbody>\n",
       "</table>\n",
       "</div>"
      ],
      "text/plain": [
       "   Number_pregnant  Glucose_concentration  Blood_pressure   Triceps   Insulin  \\\n",
       "0                6               0.743719        0.590164  0.353535  0.000000   \n",
       "1                1               0.427136        0.540984  0.292929  0.000000   \n",
       "2                8               0.919598        0.524590  0.000000  0.000000   \n",
       "3                1               0.447236        0.540984  0.232323  0.111111   \n",
       "4                0               0.688442        0.327869  0.353535  0.198582   \n",
       "\n",
       "        BMI  Pedigree  Age  Class Group  \n",
       "0  0.500745  0.234415   50      1     B  \n",
       "1  0.396423  0.116567   31      0     C  \n",
       "2  0.347243  0.253629   32      1     B  \n",
       "3  0.418778  0.038002   21      0     B  \n",
       "4  0.642325  0.943638   33      1     C  "
      ]
     },
     "execution_count": 98,
     "metadata": {},
     "output_type": "execute_result"
    }
   ],
   "source": [
    "diabetes.head()"
   ]
  },
  {
   "cell_type": "markdown",
   "metadata": {},
   "source": [
    "#### Normalizing data"
   ]
  },
  {
   "cell_type": "code",
   "execution_count": 101,
   "metadata": {},
   "outputs": [],
   "source": [
    "#All columns minus label column Class, Group (strings) and Age\n",
    "cols_to_norm = ['Number_pregnant', 'Glucose_concentration', 'Blood_pressure', 'Triceps',\n",
    "       'Insulin', 'BMI', 'Pedigree']"
   ]
  },
  {
   "cell_type": "code",
   "execution_count": 102,
   "metadata": {},
   "outputs": [],
   "source": [
    "diabetes[cols_to_norm] = diabetes[cols_to_norm].apply(lambda x: (x - x.min()) / (x.max() - x.min()))\n",
    "#sklearn.preprocessing.normalize(X, norm='l2', axis=1, copy=True, return_norm=False)"
   ]
  },
  {
   "cell_type": "code",
   "execution_count": 103,
   "metadata": {},
   "outputs": [
    {
     "data": {
      "text/html": [
       "<div>\n",
       "<style scoped>\n",
       "    .dataframe tbody tr th:only-of-type {\n",
       "        vertical-align: middle;\n",
       "    }\n",
       "\n",
       "    .dataframe tbody tr th {\n",
       "        vertical-align: top;\n",
       "    }\n",
       "\n",
       "    .dataframe thead th {\n",
       "        text-align: right;\n",
       "    }\n",
       "</style>\n",
       "<table border=\"1\" class=\"dataframe\">\n",
       "  <thead>\n",
       "    <tr style=\"text-align: right;\">\n",
       "      <th></th>\n",
       "      <th>Number_pregnant</th>\n",
       "      <th>Glucose_concentration</th>\n",
       "      <th>Blood_pressure</th>\n",
       "      <th>Triceps</th>\n",
       "      <th>Insulin</th>\n",
       "      <th>BMI</th>\n",
       "      <th>Pedigree</th>\n",
       "      <th>Age</th>\n",
       "      <th>Class</th>\n",
       "      <th>Group</th>\n",
       "    </tr>\n",
       "  </thead>\n",
       "  <tbody>\n",
       "    <tr>\n",
       "      <th>0</th>\n",
       "      <td>0.352941</td>\n",
       "      <td>0.743719</td>\n",
       "      <td>0.590164</td>\n",
       "      <td>0.353535</td>\n",
       "      <td>0.000000</td>\n",
       "      <td>0.500745</td>\n",
       "      <td>0.234415</td>\n",
       "      <td>50</td>\n",
       "      <td>1</td>\n",
       "      <td>B</td>\n",
       "    </tr>\n",
       "    <tr>\n",
       "      <th>1</th>\n",
       "      <td>0.058824</td>\n",
       "      <td>0.427136</td>\n",
       "      <td>0.540984</td>\n",
       "      <td>0.292929</td>\n",
       "      <td>0.000000</td>\n",
       "      <td>0.396423</td>\n",
       "      <td>0.116567</td>\n",
       "      <td>31</td>\n",
       "      <td>0</td>\n",
       "      <td>C</td>\n",
       "    </tr>\n",
       "    <tr>\n",
       "      <th>2</th>\n",
       "      <td>0.470588</td>\n",
       "      <td>0.919598</td>\n",
       "      <td>0.524590</td>\n",
       "      <td>0.000000</td>\n",
       "      <td>0.000000</td>\n",
       "      <td>0.347243</td>\n",
       "      <td>0.253629</td>\n",
       "      <td>32</td>\n",
       "      <td>1</td>\n",
       "      <td>B</td>\n",
       "    </tr>\n",
       "    <tr>\n",
       "      <th>3</th>\n",
       "      <td>0.058824</td>\n",
       "      <td>0.447236</td>\n",
       "      <td>0.540984</td>\n",
       "      <td>0.232323</td>\n",
       "      <td>0.111111</td>\n",
       "      <td>0.418778</td>\n",
       "      <td>0.038002</td>\n",
       "      <td>21</td>\n",
       "      <td>0</td>\n",
       "      <td>B</td>\n",
       "    </tr>\n",
       "    <tr>\n",
       "      <th>4</th>\n",
       "      <td>0.000000</td>\n",
       "      <td>0.688442</td>\n",
       "      <td>0.327869</td>\n",
       "      <td>0.353535</td>\n",
       "      <td>0.198582</td>\n",
       "      <td>0.642325</td>\n",
       "      <td>0.943638</td>\n",
       "      <td>33</td>\n",
       "      <td>1</td>\n",
       "      <td>C</td>\n",
       "    </tr>\n",
       "  </tbody>\n",
       "</table>\n",
       "</div>"
      ],
      "text/plain": [
       "   Number_pregnant  Glucose_concentration  Blood_pressure   Triceps   Insulin  \\\n",
       "0         0.352941               0.743719        0.590164  0.353535  0.000000   \n",
       "1         0.058824               0.427136        0.540984  0.292929  0.000000   \n",
       "2         0.470588               0.919598        0.524590  0.000000  0.000000   \n",
       "3         0.058824               0.447236        0.540984  0.232323  0.111111   \n",
       "4         0.000000               0.688442        0.327869  0.353535  0.198582   \n",
       "\n",
       "        BMI  Pedigree  Age  Class Group  \n",
       "0  0.500745  0.234415   50      1     B  \n",
       "1  0.396423  0.116567   31      0     C  \n",
       "2  0.347243  0.253629   32      1     B  \n",
       "3  0.418778  0.038002   21      0     B  \n",
       "4  0.642325  0.943638   33      1     C  "
      ]
     },
     "execution_count": 103,
     "metadata": {},
     "output_type": "execute_result"
    }
   ],
   "source": [
    "diabetes.head()"
   ]
  },
  {
   "cell_type": "markdown",
   "metadata": {},
   "source": [
    "#### Feature Columns"
   ]
  },
  {
   "cell_type": "code",
   "execution_count": 104,
   "metadata": {},
   "outputs": [
    {
     "data": {
      "text/plain": [
       "Index(['Number_pregnant', 'Glucose_concentration', 'Blood_pressure', 'Triceps',\n",
       "       'Insulin', 'BMI', 'Pedigree', 'Age', 'Class', 'Group'],\n",
       "      dtype='object')"
      ]
     },
     "execution_count": 104,
     "metadata": {},
     "output_type": "execute_result"
    }
   ],
   "source": [
    "diabetes.columns "
   ]
  },
  {
   "cell_type": "markdown",
   "metadata": {},
   "source": [
    "#### Continuous Features\n",
    "\n",
    "* Number of times pregnant\n",
    "* Plasma glucose concentration a 2 hours in an oral glucose tolerance test\n",
    "* Diastolic blood pressure (mm Hg)\n",
    "* Triceps skin fold thickness (mm)\n",
    "* 2-Hour serum insulin (mu U/ml)\n",
    "* Body mass index (weight in kg/(height in m)^2)\n",
    "* Diabetes pedigree function"
   ]
  },
  {
   "cell_type": "code",
   "execution_count": 105,
   "metadata": {},
   "outputs": [],
   "source": [
    "import tensorflow as tf"
   ]
  },
  {
   "cell_type": "code",
   "execution_count": 106,
   "metadata": {},
   "outputs": [],
   "source": [
    "num_preg = tf.feature_column.numeric_column('Number_pregnant')\n",
    "plasma_gluc = tf.feature_column.numeric_column('Glucose_concentration')\n",
    "dias_press = tf.feature_column.numeric_column('Blood_pressure')\n",
    "tricep = tf.feature_column.numeric_column('Triceps')\n",
    "insulin = tf.feature_column.numeric_column('Insulin')\n",
    "bmi = tf.feature_column.numeric_column('BMI')\n",
    "diabetes_pedigree = tf.feature_column.numeric_column('Pedigree')\n",
    "age = tf.feature_column.numeric_column('Age')"
   ]
  },
  {
   "cell_type": "markdown",
   "metadata": {},
   "source": [
    "#### Categorical Features"
   ]
  },
  {
   "cell_type": "markdown",
   "metadata": {},
   "source": [
    "If you know the set of all possible feature values of a column and there are only a few of them, you can use categorical_column_with_vocabulary_list. If you don't know the set of possible values in advance you can use categorical_column_with_hash_bucket"
   ]
  },
  {
   "cell_type": "code",
   "execution_count": 107,
   "metadata": {},
   "outputs": [],
   "source": [
    "#If i know possible groups:\n",
    "assigned_group = tf.feature_column.categorical_column_with_vocabulary_list('Group',['A','B','C','D'])\n",
    "# If not:\n",
    "# assigned_group = tf.feature_column.categorical_column_with_hash_bucket('Group', hash_bucket_size=10)"
   ]
  },
  {
   "cell_type": "markdown",
   "metadata": {},
   "source": [
    "#### Converting Continuous to Categorical"
   ]
  },
  {
   "cell_type": "code",
   "execution_count": 123,
   "metadata": {},
   "outputs": [],
   "source": [
    "import matplotlib.pyplot as plt\n",
    "%matplotlib inline"
   ]
  },
  {
   "cell_type": "code",
   "execution_count": 124,
   "metadata": {},
   "outputs": [
    {
     "data": {
      "text/plain": [
       "<matplotlib.axes._subplots.AxesSubplot at 0x25640cf2d48>"
      ]
     },
     "execution_count": 124,
     "metadata": {},
     "output_type": "execute_result"
    },
    {
     "data": {
      "image/png": "[encoded data removed]",
      "text/plain": [
       "<Figure size 432x288 with 1 Axes>"
      ]
     },
     "metadata": {
      "needs_background": "light"
     },
     "output_type": "display_data"
    }
   ],
   "source": [
    "diabetes['Age'].hist(bins=20)"
   ]
  },
  {
   "cell_type": "code",
   "execution_count": 125,
   "metadata": {},
   "outputs": [],
   "source": [
    "age_buckets = tf.feature_column.bucketized_column(age, boundaries=[20,30,40,50,60,70,80])"
   ]
  },
  {
   "cell_type": "code",
   "execution_count": 126,
   "metadata": {},
   "outputs": [],
   "source": [
    "feat_cols = [num_preg ,plasma_gluc,dias_press ,tricep ,insulin,bmi,diabetes_pedigree ,assigned_group, age_buckets]"
   ]
  },
  {
   "cell_type": "markdown",
   "metadata": {},
   "source": [
    "#### Train Test Split"
   ]
  },
  {
   "cell_type": "code",
   "execution_count": 127,
   "metadata": {},
   "outputs": [
    {
     "data": {
      "text/html": [
       "<div>\n",
       "<style scoped>\n",
       "    .dataframe tbody tr th:only-of-type {\n",
       "        vertical-align: middle;\n",
       "    }\n",
       "\n",
       "    .dataframe tbody tr th {\n",
       "        vertical-align: top;\n",
       "    }\n",
       "\n",
       "    .dataframe thead th {\n",
       "        text-align: right;\n",
       "    }\n",
       "</style>\n",
       "<table border=\"1\" class=\"dataframe\">\n",
       "  <thead>\n",
       "    <tr style=\"text-align: right;\">\n",
       "      <th></th>\n",
       "      <th>Number_pregnant</th>\n",
       "      <th>Glucose_concentration</th>\n",
       "      <th>Blood_pressure</th>\n",
       "      <th>Triceps</th>\n",
       "      <th>Insulin</th>\n",
       "      <th>BMI</th>\n",
       "      <th>Pedigree</th>\n",
       "      <th>Age</th>\n",
       "      <th>Class</th>\n",
       "      <th>Group</th>\n",
       "    </tr>\n",
       "  </thead>\n",
       "  <tbody>\n",
       "    <tr>\n",
       "      <th>0</th>\n",
       "      <td>0.352941</td>\n",
       "      <td>0.743719</td>\n",
       "      <td>0.590164</td>\n",
       "      <td>0.353535</td>\n",
       "      <td>0.000000</td>\n",
       "      <td>0.500745</td>\n",
       "      <td>0.234415</td>\n",
       "      <td>50</td>\n",
       "      <td>1</td>\n",
       "      <td>B</td>\n",
       "    </tr>\n",
       "    <tr>\n",
       "      <th>1</th>\n",
       "      <td>0.058824</td>\n",
       "      <td>0.427136</td>\n",
       "      <td>0.540984</td>\n",
       "      <td>0.292929</td>\n",
       "      <td>0.000000</td>\n",
       "      <td>0.396423</td>\n",
       "      <td>0.116567</td>\n",
       "      <td>31</td>\n",
       "      <td>0</td>\n",
       "      <td>C</td>\n",
       "    </tr>\n",
       "    <tr>\n",
       "      <th>2</th>\n",
       "      <td>0.470588</td>\n",
       "      <td>0.919598</td>\n",
       "      <td>0.524590</td>\n",
       "      <td>0.000000</td>\n",
       "      <td>0.000000</td>\n",
       "      <td>0.347243</td>\n",
       "      <td>0.253629</td>\n",
       "      <td>32</td>\n",
       "      <td>1</td>\n",
       "      <td>B</td>\n",
       "    </tr>\n",
       "    <tr>\n",
       "      <th>3</th>\n",
       "      <td>0.058824</td>\n",
       "      <td>0.447236</td>\n",
       "      <td>0.540984</td>\n",
       "      <td>0.232323</td>\n",
       "      <td>0.111111</td>\n",
       "      <td>0.418778</td>\n",
       "      <td>0.038002</td>\n",
       "      <td>21</td>\n",
       "      <td>0</td>\n",
       "      <td>B</td>\n",
       "    </tr>\n",
       "    <tr>\n",
       "      <th>4</th>\n",
       "      <td>0.000000</td>\n",
       "      <td>0.688442</td>\n",
       "      <td>0.327869</td>\n",
       "      <td>0.353535</td>\n",
       "      <td>0.198582</td>\n",
       "      <td>0.642325</td>\n",
       "      <td>0.943638</td>\n",
       "      <td>33</td>\n",
       "      <td>1</td>\n",
       "      <td>C</td>\n",
       "    </tr>\n",
       "  </tbody>\n",
       "</table>\n",
       "</div>"
      ],
      "text/plain": [
       "   Number_pregnant  Glucose_concentration  Blood_pressure   Triceps   Insulin  \\\n",
       "0         0.352941               0.743719        0.590164  0.353535  0.000000   \n",
       "1         0.058824               0.427136        0.540984  0.292929  0.000000   \n",
       "2         0.470588               0.919598        0.524590  0.000000  0.000000   \n",
       "3         0.058824               0.447236        0.540984  0.232323  0.111111   \n",
       "4         0.000000               0.688442        0.327869  0.353535  0.198582   \n",
       "\n",
       "        BMI  Pedigree  Age  Class Group  \n",
       "0  0.500745  0.234415   50      1     B  \n",
       "1  0.396423  0.116567   31      0     C  \n",
       "2  0.347243  0.253629   32      1     B  \n",
       "3  0.418778  0.038002   21      0     B  \n",
       "4  0.642325  0.943638   33      1     C  "
      ]
     },
     "execution_count": 127,
     "metadata": {},
     "output_type": "execute_result"
    }
   ],
   "source": [
    "diabetes.head()"
   ]
  },
  {
   "cell_type": "code",
   "execution_count": 128,
   "metadata": {},
   "outputs": [
    {
     "name": "stdout",
     "output_type": "stream",
     "text": [
      "<class 'pandas.core.frame.DataFrame'>\n",
      "RangeIndex: 768 entries, 0 to 767\n",
      "Data columns (total 10 columns):\n",
      " #   Column                 Non-Null Count  Dtype  \n",
      "---  ------                 --------------  -----  \n",
      " 0   Number_pregnant        768 non-null    float64\n",
      " 1   Glucose_concentration  768 non-null    float64\n",
      " 2   Blood_pressure         768 non-null    float64\n",
      " 3   Triceps                768 non-null    float64\n",
      " 4   Insulin                768 non-null    float64\n",
      " 5   BMI                    768 non-null    float64\n",
      " 6   Pedigree               768 non-null    float64\n",
      " 7   Age                    768 non-null    int64  \n",
      " 8   Class                  768 non-null    int64  \n",
      " 9   Group                  768 non-null    object \n",
      "dtypes: float64(7), int64(2), object(1)\n",
      "memory usage: 60.1+ KB\n"
     ]
    }
   ],
   "source": [
    "diabetes.info()"
   ]
  },
  {
   "cell_type": "code",
   "execution_count": 129,
   "metadata": {},
   "outputs": [],
   "source": [
    "x_data = diabetes.drop('Class',axis=1)"
   ]
  },
  {
   "cell_type": "code",
   "execution_count": 130,
   "metadata": {},
   "outputs": [],
   "source": [
    "labels = diabetes['Class']"
   ]
  },
  {
   "cell_type": "code",
   "execution_count": 131,
   "metadata": {},
   "outputs": [],
   "source": [
    "from sklearn.model_selection import train_test_split"
   ]
  },
  {
   "cell_type": "code",
   "execution_count": 132,
   "metadata": {},
   "outputs": [],
   "source": [
    "X_train, X_test, y_train, y_test = train_test_split(x_data,labels,test_size=0.33, random_state=101)"
   ]
  },
  {
   "cell_type": "markdown",
   "metadata": {},
   "source": [
    "#### Input Function"
   ]
  },
  {
   "cell_type": "code",
   "execution_count": 133,
   "metadata": {},
   "outputs": [],
   "source": [
    "input_func = tf.estimator.inputs.pandas_input_fn(x=X_train,y=y_train,batch_size=10,num_epochs=1000,shuffle=True)"
   ]
  },
  {
   "cell_type": "markdown",
   "metadata": {},
   "source": [
    "#### Creating the Model"
   ]
  },
  {
   "cell_type": "code",
   "execution_count": 134,
   "metadata": {},
   "outputs": [
    {
     "name": "stdout",
     "output_type": "stream",
     "text": [
      "INFO:tensorflow:Using default config.\n",
      "WARNING:tensorflow:Using temporary folder as model directory: C:\\Users\\Sampayo\\AppData\\Local\\Temp\\tmpvspkim_v\n",
      "INFO:tensorflow:Using config: {'_model_dir': 'C:\\\\Users\\\\Sampayo\\\\AppData\\\\Local\\\\Temp\\\\tmpvspkim_v', '_tf_random_seed': None, '_save_summary_steps': 100, '_save_checkpoints_steps': None, '_save_checkpoints_secs': 600, '_session_config': allow_soft_placement: true\n",
      "graph_options {\n",
      "  rewrite_options {\n",
      "    meta_optimizer_iterations: ONE\n",
      "  }\n",
      "}\n",
      ", '_keep_checkpoint_max': 5, '_keep_checkpoint_every_n_hours': 10000, '_log_step_count_steps': 100, '_train_distribute': None, '_device_fn': None, '_protocol': None, '_eval_distribute': None, '_experimental_distribute': None, '_service': None, '_cluster_spec': <tensorflow.python.training.server_lib.ClusterSpec object at 0x0000025648A0E508>, '_task_type': 'worker', '_task_id': 0, '_global_id_in_cluster': 0, '_master': '', '_evaluation_master': '', '_is_chief': True, '_num_ps_replicas': 0, '_num_worker_replicas': 1}\n"
     ]
    }
   ],
   "source": [
    "model = tf.estimator.LinearClassifier(feature_columns=feat_cols,n_classes=2)"
   ]
  },
  {
   "cell_type": "code",
   "execution_count": 135,
   "metadata": {},
   "outputs": [
    {
     "name": "stdout",
     "output_type": "stream",
     "text": [
      "INFO:tensorflow:Calling model_fn.\n",
      "WARNING:tensorflow:From C:\\Users\\Sampayo\\anaconda3\\lib\\site-packages\\tensorflow\\python\\feature_column\\feature_column_v2.py:2898: to_int64 (from tensorflow.python.ops.math_ops) is deprecated and will be removed in a future version.\n",
      "Instructions for updating:\n",
      "Use tf.cast instead.\n",
      "INFO:tensorflow:Done calling model_fn.\n",
      "INFO:tensorflow:Create CheckpointSaverHook.\n",
      "INFO:tensorflow:Graph was finalized.\n",
      "INFO:tensorflow:Running local_init_op.\n",
      "INFO:tensorflow:Done running local_init_op.\n",
      "INFO:tensorflow:Saving checkpoints for 0 into C:\\Users\\Sampayo\\AppData\\Local\\Temp\\tmpvspkim_v\\model.ckpt.\n",
      "INFO:tensorflow:loss = 6.931472, step = 1\n",
      "INFO:tensorflow:global_step/sec: 321.485\n",
      "INFO:tensorflow:loss = 4.306325, step = 101 (0.315 sec)\n",
      "INFO:tensorflow:global_step/sec: 688.718\n",
      "INFO:tensorflow:loss = 6.6033883, step = 201 (0.144 sec)\n",
      "INFO:tensorflow:global_step/sec: 658.113\n",
      "INFO:tensorflow:loss = 4.3244896, step = 301 (0.151 sec)\n",
      "INFO:tensorflow:global_step/sec: 621.319\n",
      "INFO:tensorflow:loss = 4.902402, step = 401 (0.162 sec)\n",
      "INFO:tensorflow:global_step/sec: 609.955\n",
      "INFO:tensorflow:loss = 4.697876, step = 501 (0.164 sec)\n",
      "INFO:tensorflow:global_step/sec: 568.365\n",
      "INFO:tensorflow:loss = 6.1443524, step = 601 (0.176 sec)\n",
      "INFO:tensorflow:global_step/sec: 609.955\n",
      "INFO:tensorflow:loss = 5.9803753, step = 701 (0.165 sec)\n",
      "INFO:tensorflow:global_step/sec: 697.295\n",
      "INFO:tensorflow:loss = 5.415929, step = 801 (0.142 sec)\n",
      "INFO:tensorflow:global_step/sec: 591.908\n",
      "INFO:tensorflow:loss = 6.1327767, step = 901 (0.171 sec)\n",
      "INFO:tensorflow:Saving checkpoints for 1000 into C:\\Users\\Sampayo\\AppData\\Local\\Temp\\tmpvspkim_v\\model.ckpt.\n",
      "INFO:tensorflow:Loss for final step: 3.5444956.\n"
     ]
    },
    {
     "data": {
      "text/plain": [
       "<tensorflow_estimator.python.estimator.canned.linear.LinearClassifier at 0x25648a0e0c8>"
      ]
     },
     "execution_count": 135,
     "metadata": {},
     "output_type": "execute_result"
    }
   ],
   "source": [
    "model.train(input_fn=input_func,steps=1000)"
   ]
  },
  {
   "cell_type": "code",
   "execution_count": 136,
   "metadata": {},
   "outputs": [],
   "source": [
    "# Useful link for your own data\n",
    "# https://stackoverflow.com/questions/44664285/what-are-the-contraints-for-tensorflow-scope-names"
   ]
  },
  {
   "cell_type": "markdown",
   "metadata": {},
   "source": [
    "#### Evaluation"
   ]
  },
  {
   "cell_type": "code",
   "execution_count": 137,
   "metadata": {},
   "outputs": [],
   "source": [
    "eval_input_func = tf.estimator.inputs.pandas_input_fn(\n",
    "      x=X_test,\n",
    "      y=y_test,\n",
    "      batch_size=10,\n",
    "      num_epochs=1,\n",
    "      shuffle=False)"
   ]
  },
  {
   "cell_type": "code",
   "execution_count": 138,
   "metadata": {},
   "outputs": [
    {
     "name": "stdout",
     "output_type": "stream",
     "text": [
      "INFO:tensorflow:Calling model_fn.\n",
      "WARNING:tensorflow:From C:\\Users\\Sampayo\\anaconda3\\lib\\site-packages\\tensorflow\\python\\ops\\metrics_impl.py:2002: div (from tensorflow.python.ops.math_ops) is deprecated and will be removed in a future version.\n",
      "Instructions for updating:\n",
      "Deprecated in favor of operator or tf.math.divide.\n",
      "WARNING:tensorflow:Trapezoidal rule is known to produce incorrect PR-AUCs; please switch to \"careful_interpolation\" instead.\n",
      "WARNING:tensorflow:Trapezoidal rule is known to produce incorrect PR-AUCs; please switch to \"careful_interpolation\" instead.\n",
      "INFO:tensorflow:Done calling model_fn.\n",
      "INFO:tensorflow:Starting evaluation at 2020-05-06T09:05:31Z\n",
      "INFO:tensorflow:Graph was finalized.\n",
      "INFO:tensorflow:Restoring parameters from C:\\Users\\Sampayo\\AppData\\Local\\Temp\\tmpvspkim_v\\model.ckpt-1000\n",
      "INFO:tensorflow:Running local_init_op.\n",
      "INFO:tensorflow:Done running local_init_op.\n",
      "INFO:tensorflow:Finished evaluation at 2020-05-06-09:05:32\n",
      "INFO:tensorflow:Saving dict for global step 1000: accuracy = 0.7362205, accuracy_baseline = 0.65748036, auc = 0.7836052, auc_precision_recall = 0.62175596, average_loss = 0.53417104, global_step = 1000, label/mean = 0.34251967, loss = 5.21844, precision = 0.6851852, prediction/mean = 0.32659918, recall = 0.42528737\n",
      "INFO:tensorflow:Saving 'checkpoint_path' summary for global step 1000: C:\\Users\\Sampayo\\AppData\\Local\\Temp\\tmpvspkim_v\\model.ckpt-1000\n"
     ]
    }
   ],
   "source": [
    "results = model.evaluate(eval_input_func)"
   ]
  },
  {
   "cell_type": "code",
   "execution_count": 139,
   "metadata": {},
   "outputs": [
    {
     "data": {
      "text/plain": [
       "{'accuracy': 0.7362205,\n",
       " 'accuracy_baseline': 0.65748036,\n",
       " 'auc': 0.7836052,\n",
       " 'auc_precision_recall': 0.62175596,\n",
       " 'average_loss': 0.53417104,\n",
       " 'label/mean': 0.34251967,\n",
       " 'loss': 5.21844,\n",
       " 'precision': 0.6851852,\n",
       " 'prediction/mean': 0.32659918,\n",
       " 'recall': 0.42528737,\n",
       " 'global_step': 1000}"
      ]
     },
     "execution_count": 139,
     "metadata": {},
     "output_type": "execute_result"
    }
   ],
   "source": [
    "results"
   ]
  },
  {
   "cell_type": "markdown",
   "metadata": {},
   "source": [
    "#### Predictions"
   ]
  },
  {
   "cell_type": "code",
   "execution_count": 140,
   "metadata": {},
   "outputs": [],
   "source": [
    "pred_input_func = tf.estimator.inputs.pandas_input_fn(\n",
    "      x=X_test,\n",
    "      batch_size=10,\n",
    "      num_epochs=1,\n",
    "      shuffle=False)"
   ]
  },
  {
   "cell_type": "code",
   "execution_count": 141,
   "metadata": {},
   "outputs": [],
   "source": [
    "# Predictions is a generator! \n",
    "predictions = model.predict(pred_input_func)"
   ]
  },
  {
   "cell_type": "code",
   "execution_count": 142,
   "metadata": {},
   "outputs": [
    {
     "name": "stdout",
     "output_type": "stream",
     "text": [
      "INFO:tensorflow:Calling model_fn.\n",
      "INFO:tensorflow:Done calling model_fn.\n",
      "INFO:tensorflow:Graph was finalized.\n",
      "INFO:tensorflow:Restoring parameters from C:\\Users\\Sampayo\\AppData\\Local\\Temp\\tmpvspkim_v\\model.ckpt-1000\n",
      "INFO:tensorflow:Running local_init_op.\n",
      "INFO:tensorflow:Done running local_init_op.\n"
     ]
    },
    {
     "data": {
      "text/plain": [
       "[{'logits': array([-0.09804142], dtype=float32),\n",
       "  'logistic': array([0.47550926], dtype=float32),\n",
       "  'probabilities': array([0.5244908, 0.4755093], dtype=float32),\n",
       "  'class_ids': array([0], dtype=int64),\n",
       "  'classes': array([b'0'], dtype=object)},\n",
       " {'logits': array([0.29635954], dtype=float32),\n",
       "  'logistic': array([0.5735523], dtype=float32),\n",
       "  'probabilities': array([0.42644766, 0.57355237], dtype=float32),\n",
       "  'class_ids': array([1], dtype=int64),\n",
       "  'classes': array([b'1'], dtype=object)},\n",
       " {'logits': array([-0.67969096], dtype=float32),\n",
       "  'logistic': array([0.3363303], dtype=float32),\n",
       "  'probabilities': array([0.6636697, 0.3363303], dtype=float32),\n",
       "  'class_ids': array([0], dtype=int64),\n",
       "  'classes': array([b'0'], dtype=object)},\n",
       " {'logits': array([-1.0208868], dtype=float32),\n",
       "  'logistic': array([0.26485473], dtype=float32),\n",
       "  'probabilities': array([0.73514533, 0.26485473], dtype=float32),\n",
       "  'class_ids': array([0], dtype=int64),\n",
       "  'classes': array([b'0'], dtype=object)},\n",
       " {'logits': array([-2.0136507], dtype=float32),\n",
       "  'logistic': array([0.11777711], dtype=float32),\n",
       "  'probabilities': array([0.88222283, 0.11777712], dtype=float32),\n",
       "  'class_ids': array([0], dtype=int64),\n",
       "  'classes': array([b'0'], dtype=object)},\n",
       " {'logits': array([0.4963678], dtype=float32),\n",
       "  'logistic': array([0.6216054], dtype=float32),\n",
       "  'probabilities': array([0.37839463, 0.6216054 ], dtype=float32),\n",
       "  'class_ids': array([1], dtype=int64),\n",
       "  'classes': array([b'1'], dtype=object)},\n",
       " {'logits': array([0.1716268], dtype=float32),\n",
       "  'logistic': array([0.5428017], dtype=float32),\n",
       "  'probabilities': array([0.4571983, 0.5428017], dtype=float32),\n",
       "  'class_ids': array([1], dtype=int64),\n",
       "  'classes': array([b'1'], dtype=object)},\n",
       " {'logits': array([-0.91514313], dtype=float32),\n",
       "  'logistic': array([0.28594857], dtype=float32),\n",
       "  'probabilities': array([0.7140515 , 0.28594854], dtype=float32),\n",
       "  'class_ids': array([0], dtype=int64),\n",
       "  'classes': array([b'0'], dtype=object)},\n",
       " {'logits': array([-1.5268711], dtype=float32),\n",
       "  'logistic': array([0.17845194], dtype=float32),\n",
       "  'probabilities': array([0.82154804, 0.17845194], dtype=float32),\n",
       "  'class_ids': array([0], dtype=int64),\n",
       "  'classes': array([b'0'], dtype=object)},\n",
       " {'logits': array([-1.2515897], dtype=float32),\n",
       "  'logistic': array([0.22242507], dtype=float32),\n",
       "  'probabilities': array([0.7775749 , 0.22242509], dtype=float32),\n",
       "  'class_ids': array([0], dtype=int64),\n",
       "  'classes': array([b'0'], dtype=object)},\n",
       " {'logits': array([-2.0568042], dtype=float32),\n",
       "  'logistic': array([0.11336663], dtype=float32),\n",
       "  'probabilities': array([0.88663334, 0.11336666], dtype=float32),\n",
       "  'class_ids': array([0], dtype=int64),\n",
       "  'classes': array([b'0'], dtype=object)},\n",
       " {'logits': array([-1.916111], dtype=float32),\n",
       "  'logistic': array([0.1282959], dtype=float32),\n",
       "  'probabilities': array([0.87170416, 0.12829588], dtype=float32),\n",
       "  'class_ids': array([0], dtype=int64),\n",
       "  'classes': array([b'0'], dtype=object)},\n",
       " {'logits': array([-0.9791429], dtype=float32),\n",
       "  'logistic': array([0.27306187], dtype=float32),\n",
       "  'probabilities': array([0.7269381 , 0.27306187], dtype=float32),\n",
       "  'class_ids': array([0], dtype=int64),\n",
       "  'classes': array([b'0'], dtype=object)},\n",
       " {'logits': array([-0.09351385], dtype=float32),\n",
       "  'logistic': array([0.47663856], dtype=float32),\n",
       "  'probabilities': array([0.52336144, 0.47663856], dtype=float32),\n",
       "  'class_ids': array([0], dtype=int64),\n",
       "  'classes': array([b'0'], dtype=object)},\n",
       " {'logits': array([-1.7741954], dtype=float32),\n",
       "  'logistic': array([0.14502135], dtype=float32),\n",
       "  'probabilities': array([0.8549787 , 0.14502136], dtype=float32),\n",
       "  'class_ids': array([0], dtype=int64),\n",
       "  'classes': array([b'0'], dtype=object)},\n",
       " {'logits': array([-0.96545804], dtype=float32),\n",
       "  'logistic': array([0.27578676], dtype=float32),\n",
       "  'probabilities': array([0.7242133 , 0.27578676], dtype=float32),\n",
       "  'class_ids': array([0], dtype=int64),\n",
       "  'classes': array([b'0'], dtype=object)},\n",
       " {'logits': array([-0.78728014], dtype=float32),\n",
       "  'logistic': array([0.312753], dtype=float32),\n",
       "  'probabilities': array([0.68724704, 0.312753  ], dtype=float32),\n",
       "  'class_ids': array([0], dtype=int64),\n",
       "  'classes': array([b'0'], dtype=object)},\n",
       " {'logits': array([-2.074582], dtype=float32),\n",
       "  'logistic': array([0.11159194], dtype=float32),\n",
       "  'probabilities': array([0.888408  , 0.11159196], dtype=float32),\n",
       "  'class_ids': array([0], dtype=int64),\n",
       "  'classes': array([b'0'], dtype=object)},\n",
       " {'logits': array([-0.6849139], dtype=float32),\n",
       "  'logistic': array([0.33516544], dtype=float32),\n",
       "  'probabilities': array([0.6648345 , 0.33516544], dtype=float32),\n",
       "  'class_ids': array([0], dtype=int64),\n",
       "  'classes': array([b'0'], dtype=object)},\n",
       " {'logits': array([-2.00072], dtype=float32),\n",
       "  'logistic': array([0.11912734], dtype=float32),\n",
       "  'probabilities': array([0.8808726 , 0.11912734], dtype=float32),\n",
       "  'class_ids': array([0], dtype=int64),\n",
       "  'classes': array([b'0'], dtype=object)},\n",
       " {'logits': array([-1.6475767], dtype=float32),\n",
       "  'logistic': array([0.16143677], dtype=float32),\n",
       "  'probabilities': array([0.83856326, 0.16143674], dtype=float32),\n",
       "  'class_ids': array([0], dtype=int64),\n",
       "  'classes': array([b'0'], dtype=object)},\n",
       " {'logits': array([-1.1920977], dtype=float32),\n",
       "  'logistic': array([0.23288399], dtype=float32),\n",
       "  'probabilities': array([0.76711607, 0.23288399], dtype=float32),\n",
       "  'class_ids': array([0], dtype=int64),\n",
       "  'classes': array([b'0'], dtype=object)},\n",
       " {'logits': array([0.2572341], dtype=float32),\n",
       "  'logistic': array([0.56395626], dtype=float32),\n",
       "  'probabilities': array([0.43604374, 0.56395626], dtype=float32),\n",
       "  'class_ids': array([1], dtype=int64),\n",
       "  'classes': array([b'1'], dtype=object)},\n",
       " {'logits': array([-1.5338039], dtype=float32),\n",
       "  'logistic': array([0.17743778], dtype=float32),\n",
       "  'probabilities': array([0.8225622 , 0.17743781], dtype=float32),\n",
       "  'class_ids': array([0], dtype=int64),\n",
       "  'classes': array([b'0'], dtype=object)},\n",
       " {'logits': array([-1.7202696], dtype=float32),\n",
       "  'logistic': array([0.15183645], dtype=float32),\n",
       "  'probabilities': array([0.84816355, 0.15183644], dtype=float32),\n",
       "  'class_ids': array([0], dtype=int64),\n",
       "  'classes': array([b'0'], dtype=object)},\n",
       " {'logits': array([0.96820116], dtype=float32),\n",
       "  'logistic': array([0.7247608], dtype=float32),\n",
       "  'probabilities': array([0.2752392 , 0.72476083], dtype=float32),\n",
       "  'class_ids': array([1], dtype=int64),\n",
       "  'classes': array([b'1'], dtype=object)},\n",
       " {'logits': array([-1.7814226], dtype=float32),\n",
       "  'logistic': array([0.14412755], dtype=float32),\n",
       "  'probabilities': array([0.85587245, 0.14412756], dtype=float32),\n",
       "  'class_ids': array([0], dtype=int64),\n",
       "  'classes': array([b'0'], dtype=object)},\n",
       " {'logits': array([-1.027816], dtype=float32),\n",
       "  'logistic': array([0.26350772], dtype=float32),\n",
       "  'probabilities': array([0.7364923 , 0.26350772], dtype=float32),\n",
       "  'class_ids': array([0], dtype=int64),\n",
       "  'classes': array([b'0'], dtype=object)},\n",
       " {'logits': array([-2.2903614], dtype=float32),\n",
       "  'logistic': array([0.09192438], dtype=float32),\n",
       "  'probabilities': array([0.9080756 , 0.09192437], dtype=float32),\n",
       "  'class_ids': array([0], dtype=int64),\n",
       "  'classes': array([b'0'], dtype=object)},\n",
       " {'logits': array([-0.0340302], dtype=float32),\n",
       "  'logistic': array([0.49149323], dtype=float32),\n",
       "  'probabilities': array([0.5085068, 0.4914933], dtype=float32),\n",
       "  'class_ids': array([0], dtype=int64),\n",
       "  'classes': array([b'0'], dtype=object)},\n",
       " {'logits': array([2.5043964], dtype=float32),\n",
       "  'logistic': array([0.92444944], dtype=float32),\n",
       "  'probabilities': array([0.07555056, 0.9244495 ], dtype=float32),\n",
       "  'class_ids': array([1], dtype=int64),\n",
       "  'classes': array([b'1'], dtype=object)},\n",
       " {'logits': array([-0.53018457], dtype=float32),\n",
       "  'logistic': array([0.37047386], dtype=float32),\n",
       "  'probabilities': array([0.62952614, 0.37047383], dtype=float32),\n",
       "  'class_ids': array([0], dtype=int64),\n",
       "  'classes': array([b'0'], dtype=object)},\n",
       " {'logits': array([-1.040311], dtype=float32),\n",
       "  'logistic': array([0.26109], dtype=float32),\n",
       "  'probabilities': array([0.73891, 0.26109], dtype=float32),\n",
       "  'class_ids': array([0], dtype=int64),\n",
       "  'classes': array([b'0'], dtype=object)},\n",
       " {'logits': array([-0.0063144], dtype=float32),\n",
       "  'logistic': array([0.4984214], dtype=float32),\n",
       "  'probabilities': array([0.50157857, 0.4984214 ], dtype=float32),\n",
       "  'class_ids': array([0], dtype=int64),\n",
       "  'classes': array([b'0'], dtype=object)},\n",
       " {'logits': array([-1.3269802], dtype=float32),\n",
       "  'logistic': array([0.20965931], dtype=float32),\n",
       "  'probabilities': array([0.79034066, 0.2096593 ], dtype=float32),\n",
       "  'class_ids': array([0], dtype=int64),\n",
       "  'classes': array([b'0'], dtype=object)},\n",
       " {'logits': array([-0.67480433], dtype=float32),\n",
       "  'logistic': array([0.33742192], dtype=float32),\n",
       "  'probabilities': array([0.66257805, 0.3374219 ], dtype=float32),\n",
       "  'class_ids': array([0], dtype=int64),\n",
       "  'classes': array([b'0'], dtype=object)},\n",
       " {'logits': array([-0.27907753], dtype=float32),\n",
       "  'logistic': array([0.43067995], dtype=float32),\n",
       "  'probabilities': array([0.5693201 , 0.43067995], dtype=float32),\n",
       "  'class_ids': array([0], dtype=int64),\n",
       "  'classes': array([b'0'], dtype=object)},\n",
       " {'logits': array([0.255808], dtype=float32),\n",
       "  'logistic': array([0.56360555], dtype=float32),\n",
       "  'probabilities': array([0.43639448, 0.56360555], dtype=float32),\n",
       "  'class_ids': array([1], dtype=int64),\n",
       "  'classes': array([b'1'], dtype=object)},\n",
       " {'logits': array([0.76481175], dtype=float32),\n",
       "  'logistic': array([0.6823975], dtype=float32),\n",
       "  'probabilities': array([0.3176025, 0.6823975], dtype=float32),\n",
       "  'class_ids': array([1], dtype=int64),\n",
       "  'classes': array([b'1'], dtype=object)},\n",
       " {'logits': array([-0.80652434], dtype=float32),\n",
       "  'logistic': array([0.30863163], dtype=float32),\n",
       "  'probabilities': array([0.69136834, 0.30863163], dtype=float32),\n",
       "  'class_ids': array([0], dtype=int64),\n",
       "  'classes': array([b'0'], dtype=object)},\n",
       " {'logits': array([-1.8159716], dtype=float32),\n",
       "  'logistic': array([0.13991788], dtype=float32),\n",
       "  'probabilities': array([0.86008203, 0.13991794], dtype=float32),\n",
       "  'class_ids': array([0], dtype=int64),\n",
       "  'classes': array([b'0'], dtype=object)},\n",
       " {'logits': array([-0.0456593], dtype=float32),\n",
       "  'logistic': array([0.48858717], dtype=float32),\n",
       "  'probabilities': array([0.51141286, 0.48858717], dtype=float32),\n",
       "  'class_ids': array([0], dtype=int64),\n",
       "  'classes': array([b'0'], dtype=object)},\n",
       " {'logits': array([-1.9230105], dtype=float32),\n",
       "  'logistic': array([0.1275262], dtype=float32),\n",
       "  'probabilities': array([0.8724737 , 0.12752622], dtype=float32),\n",
       "  'class_ids': array([0], dtype=int64),\n",
       "  'classes': array([b'0'], dtype=object)},\n",
       " {'logits': array([-0.14146161], dtype=float32),\n",
       "  'logistic': array([0.46469346], dtype=float32),\n",
       "  'probabilities': array([0.5353066 , 0.46469346], dtype=float32),\n",
       "  'class_ids': array([0], dtype=int64),\n",
       "  'classes': array([b'0'], dtype=object)},\n",
       " {'logits': array([-1.9869773], dtype=float32),\n",
       "  'logistic': array([0.12057704], dtype=float32),\n",
       "  'probabilities': array([0.87942296, 0.12057701], dtype=float32),\n",
       "  'class_ids': array([0], dtype=int64),\n",
       "  'classes': array([b'0'], dtype=object)},\n",
       " {'logits': array([-2.1976883], dtype=float32),\n",
       "  'logistic': array([0.09995821], dtype=float32),\n",
       "  'probabilities': array([0.90004176, 0.09995827], dtype=float32),\n",
       "  'class_ids': array([0], dtype=int64),\n",
       "  'classes': array([b'0'], dtype=object)},\n",
       " {'logits': array([0.24651265], dtype=float32),\n",
       "  'logistic': array([0.561318], dtype=float32),\n",
       "  'probabilities': array([0.43868205, 0.561318  ], dtype=float32),\n",
       "  'class_ids': array([1], dtype=int64),\n",
       "  'classes': array([b'1'], dtype=object)},\n",
       " {'logits': array([-1.6971896], dtype=float32),\n",
       "  'logistic': array([0.15483266], dtype=float32),\n",
       "  'probabilities': array([0.84516734, 0.15483268], dtype=float32),\n",
       "  'class_ids': array([0], dtype=int64),\n",
       "  'classes': array([b'0'], dtype=object)},\n",
       " {'logits': array([-1.5534089], dtype=float32),\n",
       "  'logistic': array([0.17459448], dtype=float32),\n",
       "  'probabilities': array([0.82540554, 0.17459446], dtype=float32),\n",
       "  'class_ids': array([0], dtype=int64),\n",
       "  'classes': array([b'0'], dtype=object)},\n",
       " {'logits': array([-2.0747318], dtype=float32),\n",
       "  'logistic': array([0.11157712], dtype=float32),\n",
       "  'probabilities': array([0.8884229 , 0.11157712], dtype=float32),\n",
       "  'class_ids': array([0], dtype=int64),\n",
       "  'classes': array([b'0'], dtype=object)},\n",
       " {'logits': array([-1.8102449], dtype=float32),\n",
       "  'logistic': array([0.14060849], dtype=float32),\n",
       "  'probabilities': array([0.8593915 , 0.14060853], dtype=float32),\n",
       "  'class_ids': array([0], dtype=int64),\n",
       "  'classes': array([b'0'], dtype=object)},\n",
       " {'logits': array([-1.2521925], dtype=float32),\n",
       "  'logistic': array([0.22232085], dtype=float32),\n",
       "  'probabilities': array([0.77767915, 0.22232082], dtype=float32),\n",
       "  'class_ids': array([0], dtype=int64),\n",
       "  'classes': array([b'0'], dtype=object)},\n",
       " {'logits': array([-1.3172781], dtype=float32),\n",
       "  'logistic': array([0.2112715], dtype=float32),\n",
       "  'probabilities': array([0.78872854, 0.2112715 ], dtype=float32),\n",
       "  'class_ids': array([0], dtype=int64),\n",
       "  'classes': array([b'0'], dtype=object)},\n",
       " {'logits': array([-0.76328576], dtype=float32),\n",
       "  'logistic': array([0.31793335], dtype=float32),\n",
       "  'probabilities': array([0.6820667 , 0.31793332], dtype=float32),\n",
       "  'class_ids': array([0], dtype=int64),\n",
       "  'classes': array([b'0'], dtype=object)},\n",
       " {'logits': array([-2.0658236], dtype=float32),\n",
       "  'logistic': array([0.11246321], dtype=float32),\n",
       "  'probabilities': array([0.88753676, 0.11246324], dtype=float32),\n",
       "  'class_ids': array([0], dtype=int64),\n",
       "  'classes': array([b'0'], dtype=object)},\n",
       " {'logits': array([-1.5111223], dtype=float32),\n",
       "  'logistic': array([0.18077248], dtype=float32),\n",
       "  'probabilities': array([0.8192275 , 0.18077253], dtype=float32),\n",
       "  'class_ids': array([0], dtype=int64),\n",
       "  'classes': array([b'0'], dtype=object)},\n",
       " {'logits': array([-1.5848036], dtype=float32),\n",
       "  'logistic': array([0.17011628], dtype=float32),\n",
       "  'probabilities': array([0.82988375, 0.17011626], dtype=float32),\n",
       "  'class_ids': array([0], dtype=int64),\n",
       "  'classes': array([b'0'], dtype=object)},\n",
       " {'logits': array([-1.634068], dtype=float32),\n",
       "  'logistic': array([0.16327384], dtype=float32),\n",
       "  'probabilities': array([0.8367261 , 0.16327384], dtype=float32),\n",
       "  'class_ids': array([0], dtype=int64),\n",
       "  'classes': array([b'0'], dtype=object)},\n",
       " {'logits': array([-0.2795477], dtype=float32),\n",
       "  'logistic': array([0.43056467], dtype=float32),\n",
       "  'probabilities': array([0.5694353 , 0.43056467], dtype=float32),\n",
       "  'class_ids': array([0], dtype=int64),\n",
       "  'classes': array([b'0'], dtype=object)},\n",
       " {'logits': array([-1.8657858], dtype=float32),\n",
       "  'logistic': array([0.13403009], dtype=float32),\n",
       "  'probabilities': array([0.8659699 , 0.13403009], dtype=float32),\n",
       "  'class_ids': array([0], dtype=int64),\n",
       "  'classes': array([b'0'], dtype=object)},\n",
       " {'logits': array([-1.5564305], dtype=float32),\n",
       "  'logistic': array([0.17415944], dtype=float32),\n",
       "  'probabilities': array([0.82584053, 0.17415945], dtype=float32),\n",
       "  'class_ids': array([0], dtype=int64),\n",
       "  'classes': array([b'0'], dtype=object)},\n",
       " {'logits': array([0.19537735], dtype=float32),\n",
       "  'logistic': array([0.54868954], dtype=float32),\n",
       "  'probabilities': array([0.45131043, 0.54868954], dtype=float32),\n",
       "  'class_ids': array([1], dtype=int64),\n",
       "  'classes': array([b'1'], dtype=object)},\n",
       " {'logits': array([0.2306515], dtype=float32),\n",
       "  'logistic': array([0.5574086], dtype=float32),\n",
       "  'probabilities': array([0.4425914, 0.5574086], dtype=float32),\n",
       "  'class_ids': array([1], dtype=int64),\n",
       "  'classes': array([b'1'], dtype=object)},\n",
       " {'logits': array([-0.18230975], dtype=float32),\n",
       "  'logistic': array([0.4545484], dtype=float32),\n",
       "  'probabilities': array([0.54545164, 0.4545484 ], dtype=float32),\n",
       "  'class_ids': array([0], dtype=int64),\n",
       "  'classes': array([b'0'], dtype=object)},\n",
       " {'logits': array([-0.87419903], dtype=float32),\n",
       "  'logistic': array([0.29438132], dtype=float32),\n",
       "  'probabilities': array([0.7056187 , 0.29438132], dtype=float32),\n",
       "  'class_ids': array([0], dtype=int64),\n",
       "  'classes': array([b'0'], dtype=object)},\n",
       " {'logits': array([-0.23459452], dtype=float32),\n",
       "  'logistic': array([0.4416189], dtype=float32),\n",
       "  'probabilities': array([0.55838114, 0.4416189 ], dtype=float32),\n",
       "  'class_ids': array([0], dtype=int64),\n",
       "  'classes': array([b'0'], dtype=object)},\n",
       " {'logits': array([-1.7590044], dtype=float32),\n",
       "  'logistic': array([0.14691508], dtype=float32),\n",
       "  'probabilities': array([0.853085  , 0.14691508], dtype=float32),\n",
       "  'class_ids': array([0], dtype=int64),\n",
       "  'classes': array([b'0'], dtype=object)},\n",
       " {'logits': array([-1.6155642], dtype=float32),\n",
       "  'logistic': array([0.16581753], dtype=float32),\n",
       "  'probabilities': array([0.83418244, 0.16581751], dtype=float32),\n",
       "  'class_ids': array([0], dtype=int64),\n",
       "  'classes': array([b'0'], dtype=object)},\n",
       " {'logits': array([-1.9616882], dtype=float32),\n",
       "  'logistic': array([0.12328446], dtype=float32),\n",
       "  'probabilities': array([0.87671554, 0.12328447], dtype=float32),\n",
       "  'class_ids': array([0], dtype=int64),\n",
       "  'classes': array([b'0'], dtype=object)},\n",
       " {'logits': array([-2.12495], dtype=float32),\n",
       "  'logistic': array([0.10669536], dtype=float32),\n",
       "  'probabilities': array([0.8933047 , 0.10669538], dtype=float32),\n",
       "  'class_ids': array([0], dtype=int64),\n",
       "  'classes': array([b'0'], dtype=object)},\n",
       " {'logits': array([0.21941793], dtype=float32),\n",
       "  'logistic': array([0.55463547], dtype=float32),\n",
       "  'probabilities': array([0.44536453, 0.55463547], dtype=float32),\n",
       "  'class_ids': array([1], dtype=int64),\n",
       "  'classes': array([b'1'], dtype=object)},\n",
       " {'logits': array([-1.3644098], dtype=float32),\n",
       "  'logistic': array([0.20352453], dtype=float32),\n",
       "  'probabilities': array([0.79647547, 0.20352452], dtype=float32),\n",
       "  'class_ids': array([0], dtype=int64),\n",
       "  'classes': array([b'0'], dtype=object)},\n",
       " {'logits': array([-0.38040286], dtype=float32),\n",
       "  'logistic': array([0.40602973], dtype=float32),\n",
       "  'probabilities': array([0.59397024, 0.40602973], dtype=float32),\n",
       "  'class_ids': array([0], dtype=int64),\n",
       "  'classes': array([b'0'], dtype=object)},\n",
       " {'logits': array([0.08493865], dtype=float32),\n",
       "  'logistic': array([0.5212219], dtype=float32),\n",
       "  'probabilities': array([0.47877812, 0.52122194], dtype=float32),\n",
       "  'class_ids': array([1], dtype=int64),\n",
       "  'classes': array([b'1'], dtype=object)},\n",
       " {'logits': array([-1.1864575], dtype=float32),\n",
       "  'logistic': array([0.23389313], dtype=float32),\n",
       "  'probabilities': array([0.76610684, 0.2338931 ], dtype=float32),\n",
       "  'class_ids': array([0], dtype=int64),\n",
       "  'classes': array([b'0'], dtype=object)},\n",
       " {'logits': array([0.33654094], dtype=float32),\n",
       "  'logistic': array([0.58335], dtype=float32),\n",
       "  'probabilities': array([0.41664997, 0.58335006], dtype=float32),\n",
       "  'class_ids': array([1], dtype=int64),\n",
       "  'classes': array([b'1'], dtype=object)},\n",
       " {'logits': array([-2.11001], dtype=float32),\n",
       "  'logistic': array([0.10812771], dtype=float32),\n",
       "  'probabilities': array([0.8918723 , 0.10812771], dtype=float32),\n",
       "  'class_ids': array([0], dtype=int64),\n",
       "  'classes': array([b'0'], dtype=object)},\n",
       " {'logits': array([0.17425025], dtype=float32),\n",
       "  'logistic': array([0.5434527], dtype=float32),\n",
       "  'probabilities': array([0.45654735, 0.5434527 ], dtype=float32),\n",
       "  'class_ids': array([1], dtype=int64),\n",
       "  'classes': array([b'1'], dtype=object)},\n",
       " {'logits': array([-2.1219385], dtype=float32),\n",
       "  'logistic': array([0.10698274], dtype=float32),\n",
       "  'probabilities': array([0.8930173 , 0.10698274], dtype=float32),\n",
       "  'class_ids': array([0], dtype=int64),\n",
       "  'classes': array([b'0'], dtype=object)},\n",
       " {'logits': array([0.117257], dtype=float32),\n",
       "  'logistic': array([0.5292807], dtype=float32),\n",
       "  'probabilities': array([0.4707193, 0.5292807], dtype=float32),\n",
       "  'class_ids': array([1], dtype=int64),\n",
       "  'classes': array([b'1'], dtype=object)},\n",
       " {'logits': array([-0.95943886], dtype=float32),\n",
       "  'logistic': array([0.27699053], dtype=float32),\n",
       "  'probabilities': array([0.72300947, 0.27699056], dtype=float32),\n",
       "  'class_ids': array([0], dtype=int64),\n",
       "  'classes': array([b'0'], dtype=object)},\n",
       " {'logits': array([-1.7893767], dtype=float32),\n",
       "  'logistic': array([0.14314914], dtype=float32),\n",
       "  'probabilities': array([0.8568508 , 0.14314915], dtype=float32),\n",
       "  'class_ids': array([0], dtype=int64),\n",
       "  'classes': array([b'0'], dtype=object)},\n",
       " {'logits': array([-0.0600276], dtype=float32),\n",
       "  'logistic': array([0.4849976], dtype=float32),\n",
       "  'probabilities': array([0.51500237, 0.48499757], dtype=float32),\n",
       "  'class_ids': array([0], dtype=int64),\n",
       "  'classes': array([b'0'], dtype=object)},\n",
       " {'logits': array([0.15127563], dtype=float32),\n",
       "  'logistic': array([0.53774697], dtype=float32),\n",
       "  'probabilities': array([0.462253 , 0.5377469], dtype=float32),\n",
       "  'class_ids': array([1], dtype=int64),\n",
       "  'classes': array([b'1'], dtype=object)},\n",
       " {'logits': array([0.00972021], dtype=float32),\n",
       "  'logistic': array([0.50243], dtype=float32),\n",
       "  'probabilities': array([0.49756995, 0.50243   ], dtype=float32),\n",
       "  'class_ids': array([1], dtype=int64),\n",
       "  'classes': array([b'1'], dtype=object)},\n",
       " {'logits': array([-1.8861461], dtype=float32),\n",
       "  'logistic': array([0.13168451], dtype=float32),\n",
       "  'probabilities': array([0.86831546, 0.13168451], dtype=float32),\n",
       "  'class_ids': array([0], dtype=int64),\n",
       "  'classes': array([b'0'], dtype=object)},\n",
       " {'logits': array([-0.66377425], dtype=float32),\n",
       "  'logistic': array([0.3398923], dtype=float32),\n",
       "  'probabilities': array([0.66010773, 0.3398923 ], dtype=float32),\n",
       "  'class_ids': array([0], dtype=int64),\n",
       "  'classes': array([b'0'], dtype=object)},\n",
       " {'logits': array([-1.955361], dtype=float32),\n",
       "  'logistic': array([0.12396997], dtype=float32),\n",
       "  'probabilities': array([0.87603   , 0.12396996], dtype=float32),\n",
       "  'class_ids': array([0], dtype=int64),\n",
       "  'classes': array([b'0'], dtype=object)},\n",
       " {'logits': array([0.59469485], dtype=float32),\n",
       "  'logistic': array([0.64444166], dtype=float32),\n",
       "  'probabilities': array([0.35555837, 0.64444166], dtype=float32),\n",
       "  'class_ids': array([1], dtype=int64),\n",
       "  'classes': array([b'1'], dtype=object)},\n",
       " {'logits': array([1.29248], dtype=float32),\n",
       "  'logistic': array([0.78456664], dtype=float32),\n",
       "  'probabilities': array([0.21543334, 0.78456664], dtype=float32),\n",
       "  'class_ids': array([1], dtype=int64),\n",
       "  'classes': array([b'1'], dtype=object)},\n",
       " {'logits': array([0.16184628], dtype=float32),\n",
       "  'logistic': array([0.54037344], dtype=float32),\n",
       "  'probabilities': array([0.45962653, 0.5403735 ], dtype=float32),\n",
       "  'class_ids': array([1], dtype=int64),\n",
       "  'classes': array([b'1'], dtype=object)},\n",
       " {'logits': array([-1.5488496], dtype=float32),\n",
       "  'logistic': array([0.17525247], dtype=float32),\n",
       "  'probabilities': array([0.82474756, 0.1752525 ], dtype=float32),\n",
       "  'class_ids': array([0], dtype=int64),\n",
       "  'classes': array([b'0'], dtype=object)},\n",
       " {'logits': array([-0.34044802], dtype=float32),\n",
       "  'logistic': array([0.41570067], dtype=float32),\n",
       "  'probabilities': array([0.5842993 , 0.41570064], dtype=float32),\n",
       "  'class_ids': array([0], dtype=int64),\n",
       "  'classes': array([b'0'], dtype=object)},\n",
       " {'logits': array([-0.6124233], dtype=float32),\n",
       "  'logistic': array([0.35150665], dtype=float32),\n",
       "  'probabilities': array([0.64849335, 0.3515066 ], dtype=float32),\n",
       "  'class_ids': array([0], dtype=int64),\n",
       "  'classes': array([b'0'], dtype=object)},\n",
       " {'logits': array([-0.3835274], dtype=float32),\n",
       "  'logistic': array([0.40527642], dtype=float32),\n",
       "  'probabilities': array([0.5947236 , 0.40527642], dtype=float32),\n",
       "  'class_ids': array([0], dtype=int64),\n",
       "  'classes': array([b'0'], dtype=object)},\n",
       " {'logits': array([-0.7443074], dtype=float32),\n",
       "  'logistic': array([0.32206297], dtype=float32),\n",
       "  'probabilities': array([0.67793703, 0.32206294], dtype=float32),\n",
       "  'class_ids': array([0], dtype=int64),\n",
       "  'classes': array([b'0'], dtype=object)},\n",
       " {'logits': array([-0.53070253], dtype=float32),\n",
       "  'logistic': array([0.37035304], dtype=float32),\n",
       "  'probabilities': array([0.62964696, 0.37035307], dtype=float32),\n",
       "  'class_ids': array([0], dtype=int64),\n",
       "  'classes': array([b'0'], dtype=object)},\n",
       " {'logits': array([-1.8362068], dtype=float32),\n",
       "  'logistic': array([0.13750052], dtype=float32),\n",
       "  'probabilities': array([0.8624995 , 0.13750052], dtype=float32),\n",
       "  'class_ids': array([0], dtype=int64),\n",
       "  'classes': array([b'0'], dtype=object)},\n",
       " {'logits': array([-0.04935372], dtype=float32),\n",
       "  'logistic': array([0.48766407], dtype=float32),\n",
       "  'probabilities': array([0.5123359 , 0.48766404], dtype=float32),\n",
       "  'class_ids': array([0], dtype=int64),\n",
       "  'classes': array([b'0'], dtype=object)},\n",
       " {'logits': array([-0.10135913], dtype=float32),\n",
       "  'logistic': array([0.4746819], dtype=float32),\n",
       "  'probabilities': array([0.52531815, 0.4746819 ], dtype=float32),\n",
       "  'class_ids': array([0], dtype=int64),\n",
       "  'classes': array([b'0'], dtype=object)},\n",
       " {'logits': array([-1.4095533], dtype=float32),\n",
       "  'logistic': array([0.1963045], dtype=float32),\n",
       "  'probabilities': array([0.8036955 , 0.19630453], dtype=float32),\n",
       "  'class_ids': array([0], dtype=int64),\n",
       "  'classes': array([b'0'], dtype=object)},\n",
       " {'logits': array([-1.7508588], dtype=float32),\n",
       "  'logistic': array([0.14793894], dtype=float32),\n",
       "  'probabilities': array([0.8520611 , 0.14793892], dtype=float32),\n",
       "  'class_ids': array([0], dtype=int64),\n",
       "  'classes': array([b'0'], dtype=object)},\n",
       " {'logits': array([-1.8848617], dtype=float32),\n",
       "  'logistic': array([0.13183147], dtype=float32),\n",
       "  'probabilities': array([0.86816853, 0.13183144], dtype=float32),\n",
       "  'class_ids': array([0], dtype=int64),\n",
       "  'classes': array([b'0'], dtype=object)},\n",
       " {'logits': array([-1.2444564], dtype=float32),\n",
       "  'logistic': array([0.22366124], dtype=float32),\n",
       "  'probabilities': array([0.77633876, 0.22366123], dtype=float32),\n",
       "  'class_ids': array([0], dtype=int64),\n",
       "  'classes': array([b'0'], dtype=object)},\n",
       " {'logits': array([-0.6381401], dtype=float32),\n",
       "  'logistic': array([0.34566712], dtype=float32),\n",
       "  'probabilities': array([0.6543329, 0.3456671], dtype=float32),\n",
       "  'class_ids': array([0], dtype=int64),\n",
       "  'classes': array([b'0'], dtype=object)},\n",
       " {'logits': array([-2.0197086], dtype=float32),\n",
       "  'logistic': array([0.11714906], dtype=float32),\n",
       "  'probabilities': array([0.8828509 , 0.11714913], dtype=float32),\n",
       "  'class_ids': array([0], dtype=int64),\n",
       "  'classes': array([b'0'], dtype=object)},\n",
       " {'logits': array([-0.86908185], dtype=float32),\n",
       "  'logistic': array([0.29544538], dtype=float32),\n",
       "  'probabilities': array([0.7045547, 0.2954454], dtype=float32),\n",
       "  'class_ids': array([0], dtype=int64),\n",
       "  'classes': array([b'0'], dtype=object)},\n",
       " {'logits': array([-1.3496743], dtype=float32),\n",
       "  'logistic': array([0.20592362], dtype=float32),\n",
       "  'probabilities': array([0.7940764 , 0.20592362], dtype=float32),\n",
       "  'class_ids': array([0], dtype=int64),\n",
       "  'classes': array([b'0'], dtype=object)},\n",
       " {'logits': array([-2.40627], dtype=float32),\n",
       "  'logistic': array([0.08269582], dtype=float32),\n",
       "  'probabilities': array([0.91730416, 0.08269582], dtype=float32),\n",
       "  'class_ids': array([0], dtype=int64),\n",
       "  'classes': array([b'0'], dtype=object)},\n",
       " {'logits': array([-2.1284723], dtype=float32),\n",
       "  'logistic': array([0.10636011], dtype=float32),\n",
       "  'probabilities': array([0.89363986, 0.10636011], dtype=float32),\n",
       "  'class_ids': array([0], dtype=int64),\n",
       "  'classes': array([b'0'], dtype=object)},\n",
       " {'logits': array([0.83420706], dtype=float32),\n",
       "  'logistic': array([0.69724375], dtype=float32),\n",
       "  'probabilities': array([0.30275625, 0.69724375], dtype=float32),\n",
       "  'class_ids': array([1], dtype=int64),\n",
       "  'classes': array([b'1'], dtype=object)},\n",
       " {'logits': array([-1.844445], dtype=float32),\n",
       "  'logistic': array([0.13652647], dtype=float32),\n",
       "  'probabilities': array([0.8634736 , 0.13652644], dtype=float32),\n",
       "  'class_ids': array([0], dtype=int64),\n",
       "  'classes': array([b'0'], dtype=object)},\n",
       " {'logits': array([-2.042874], dtype=float32),\n",
       "  'logistic': array([0.11477441], dtype=float32),\n",
       "  'probabilities': array([0.88522565, 0.1147744 ], dtype=float32),\n",
       "  'class_ids': array([0], dtype=int64),\n",
       "  'classes': array([b'0'], dtype=object)},\n",
       " {'logits': array([-1.9681462], dtype=float32),\n",
       "  'logistic': array([0.12258816], dtype=float32),\n",
       "  'probabilities': array([0.87741184, 0.12258814], dtype=float32),\n",
       "  'class_ids': array([0], dtype=int64),\n",
       "  'classes': array([b'0'], dtype=object)},\n",
       " {'logits': array([-0.2343654], dtype=float32),\n",
       "  'logistic': array([0.44167536], dtype=float32),\n",
       "  'probabilities': array([0.55832464, 0.4416754 ], dtype=float32),\n",
       "  'class_ids': array([0], dtype=int64),\n",
       "  'classes': array([b'0'], dtype=object)},\n",
       " {'logits': array([-0.43400568], dtype=float32),\n",
       "  'logistic': array([0.39317024], dtype=float32),\n",
       "  'probabilities': array([0.60682976, 0.3931702 ], dtype=float32),\n",
       "  'class_ids': array([0], dtype=int64),\n",
       "  'classes': array([b'0'], dtype=object)},\n",
       " {'logits': array([-1.4866356], dtype=float32),\n",
       "  'logistic': array([0.18442723], dtype=float32),\n",
       "  'probabilities': array([0.8155728 , 0.18442726], dtype=float32),\n",
       "  'class_ids': array([0], dtype=int64),\n",
       "  'classes': array([b'0'], dtype=object)},\n",
       " {'logits': array([-0.41618776], dtype=float32),\n",
       "  'logistic': array([0.39742935], dtype=float32),\n",
       "  'probabilities': array([0.60257065, 0.39742932], dtype=float32),\n",
       "  'class_ids': array([0], dtype=int64),\n",
       "  'classes': array([b'0'], dtype=object)},\n",
       " {'logits': array([-1.7080638], dtype=float32),\n",
       "  'logistic': array([0.15341502], dtype=float32),\n",
       "  'probabilities': array([0.846585  , 0.15341501], dtype=float32),\n",
       "  'class_ids': array([0], dtype=int64),\n",
       "  'classes': array([b'0'], dtype=object)},\n",
       " {'logits': array([-1.5024748], dtype=float32),\n",
       "  'logistic': array([0.18205671], dtype=float32),\n",
       "  'probabilities': array([0.8179433 , 0.18205671], dtype=float32),\n",
       "  'class_ids': array([0], dtype=int64),\n",
       "  'classes': array([b'0'], dtype=object)},\n",
       " {'logits': array([-0.2883622], dtype=float32),\n",
       "  'logistic': array([0.42840487], dtype=float32),\n",
       "  'probabilities': array([0.57159513, 0.4284049 ], dtype=float32),\n",
       "  'class_ids': array([0], dtype=int64),\n",
       "  'classes': array([b'0'], dtype=object)},\n",
       " {'logits': array([-0.17317641], dtype=float32),\n",
       "  'logistic': array([0.45681378], dtype=float32),\n",
       "  'probabilities': array([0.54318625, 0.45681378], dtype=float32),\n",
       "  'class_ids': array([0], dtype=int64),\n",
       "  'classes': array([b'0'], dtype=object)},\n",
       " {'logits': array([-1.9998784], dtype=float32),\n",
       "  'logistic': array([0.1192157], dtype=float32),\n",
       "  'probabilities': array([0.8807843 , 0.11921569], dtype=float32),\n",
       "  'class_ids': array([0], dtype=int64),\n",
       "  'classes': array([b'0'], dtype=object)},\n",
       " {'logits': array([-0.6105665], dtype=float32),\n",
       "  'logistic': array([0.35193], dtype=float32),\n",
       "  'probabilities': array([0.64807004, 0.35193   ], dtype=float32),\n",
       "  'class_ids': array([0], dtype=int64),\n",
       "  'classes': array([b'0'], dtype=object)},\n",
       " {'logits': array([0.42381728], dtype=float32),\n",
       "  'logistic': array([0.60439634], dtype=float32),\n",
       "  'probabilities': array([0.3956037 , 0.60439634], dtype=float32),\n",
       "  'class_ids': array([1], dtype=int64),\n",
       "  'classes': array([b'1'], dtype=object)},\n",
       " {'logits': array([0.01914287], dtype=float32),\n",
       "  'logistic': array([0.5047856], dtype=float32),\n",
       "  'probabilities': array([0.49521443, 0.5047856 ], dtype=float32),\n",
       "  'class_ids': array([1], dtype=int64),\n",
       "  'classes': array([b'1'], dtype=object)},\n",
       " {'logits': array([-0.47398043], dtype=float32),\n",
       "  'logistic': array([0.38367456], dtype=float32),\n",
       "  'probabilities': array([0.61632544, 0.38367456], dtype=float32),\n",
       "  'class_ids': array([0], dtype=int64),\n",
       "  'classes': array([b'0'], dtype=object)},\n",
       " {'logits': array([-0.05010176], dtype=float32),\n",
       "  'logistic': array([0.48747718], dtype=float32),\n",
       "  'probabilities': array([0.5125228 , 0.48747718], dtype=float32),\n",
       "  'class_ids': array([0], dtype=int64),\n",
       "  'classes': array([b'0'], dtype=object)},\n",
       " {'logits': array([-1.3367321], dtype=float32),\n",
       "  'logistic': array([0.20804797], dtype=float32),\n",
       "  'probabilities': array([0.7919521 , 0.20804797], dtype=float32),\n",
       "  'class_ids': array([0], dtype=int64),\n",
       "  'classes': array([b'0'], dtype=object)},\n",
       " {'logits': array([-1.6756308], dtype=float32),\n",
       "  'logistic': array([0.1576749], dtype=float32),\n",
       "  'probabilities': array([0.8423251 , 0.15767488], dtype=float32),\n",
       "  'class_ids': array([0], dtype=int64),\n",
       "  'classes': array([b'0'], dtype=object)},\n",
       " {'logits': array([-2.0506737], dtype=float32),\n",
       "  'logistic': array([0.11398432], dtype=float32),\n",
       "  'probabilities': array([0.8860157 , 0.11398433], dtype=float32),\n",
       "  'class_ids': array([0], dtype=int64),\n",
       "  'classes': array([b'0'], dtype=object)},\n",
       " {'logits': array([-1.2900532], dtype=float32),\n",
       "  'logistic': array([0.21584383], dtype=float32),\n",
       "  'probabilities': array([0.7841562, 0.2158438], dtype=float32),\n",
       "  'class_ids': array([0], dtype=int64),\n",
       "  'classes': array([b'0'], dtype=object)},\n",
       " {'logits': array([-0.23145825], dtype=float32),\n",
       "  'logistic': array([0.4423924], dtype=float32),\n",
       "  'probabilities': array([0.5576076, 0.4423924], dtype=float32),\n",
       "  'class_ids': array([0], dtype=int64),\n",
       "  'classes': array([b'0'], dtype=object)},\n",
       " {'logits': array([0.45772672], dtype=float32),\n",
       "  'logistic': array([0.61247474], dtype=float32),\n",
       "  'probabilities': array([0.38752523, 0.61247474], dtype=float32),\n",
       "  'class_ids': array([1], dtype=int64),\n",
       "  'classes': array([b'1'], dtype=object)},\n",
       " {'logits': array([-1.4301598], dtype=float32),\n",
       "  'logistic': array([0.19307378], dtype=float32),\n",
       "  'probabilities': array([0.8069262 , 0.19307378], dtype=float32),\n",
       "  'class_ids': array([0], dtype=int64),\n",
       "  'classes': array([b'0'], dtype=object)},\n",
       " {'logits': array([-1.8626847], dtype=float32),\n",
       "  'logistic': array([0.13439038], dtype=float32),\n",
       "  'probabilities': array([0.8656095 , 0.13439043], dtype=float32),\n",
       "  'class_ids': array([0], dtype=int64),\n",
       "  'classes': array([b'0'], dtype=object)},\n",
       " {'logits': array([-0.49477923], dtype=float32),\n",
       "  'logistic': array([0.37876835], dtype=float32),\n",
       "  'probabilities': array([0.6212317 , 0.37876838], dtype=float32),\n",
       "  'class_ids': array([0], dtype=int64),\n",
       "  'classes': array([b'0'], dtype=object)},\n",
       " {'logits': array([-1.5197039], dtype=float32),\n",
       "  'logistic': array([0.17950514], dtype=float32),\n",
       "  'probabilities': array([0.82049483, 0.17950512], dtype=float32),\n",
       "  'class_ids': array([0], dtype=int64),\n",
       "  'classes': array([b'0'], dtype=object)},\n",
       " {'logits': array([-2.038922], dtype=float32),\n",
       "  'logistic': array([0.11517654], dtype=float32),\n",
       "  'probabilities': array([0.8848235 , 0.11517654], dtype=float32),\n",
       "  'class_ids': array([0], dtype=int64),\n",
       "  'classes': array([b'0'], dtype=object)},\n",
       " {'logits': array([-1.6889045], dtype=float32),\n",
       "  'logistic': array([0.15591995], dtype=float32),\n",
       "  'probabilities': array([0.8440801 , 0.15591997], dtype=float32),\n",
       "  'class_ids': array([0], dtype=int64),\n",
       "  'classes': array([b'0'], dtype=object)},\n",
       " {'logits': array([-2.0999165], dtype=float32),\n",
       "  'logistic': array([0.10910493], dtype=float32),\n",
       "  'probabilities': array([0.89089507, 0.10910495], dtype=float32),\n",
       "  'class_ids': array([0], dtype=int64),\n",
       "  'classes': array([b'0'], dtype=object)},\n",
       " {'logits': array([-0.6518904], dtype=float32),\n",
       "  'logistic': array([0.3425637], dtype=float32),\n",
       "  'probabilities': array([0.6574364 , 0.34256366], dtype=float32),\n",
       "  'class_ids': array([0], dtype=int64),\n",
       "  'classes': array([b'0'], dtype=object)},\n",
       " {'logits': array([1.0573289], dtype=float32),\n",
       "  'logistic': array([0.74217975], dtype=float32),\n",
       "  'probabilities': array([0.25782025, 0.7421798 ], dtype=float32),\n",
       "  'class_ids': array([1], dtype=int64),\n",
       "  'classes': array([b'1'], dtype=object)},\n",
       " {'logits': array([0.8609016], dtype=float32),\n",
       "  'logistic': array([0.70284903], dtype=float32),\n",
       "  'probabilities': array([0.29715103, 0.702849  ], dtype=float32),\n",
       "  'class_ids': array([1], dtype=int64),\n",
       "  'classes': array([b'1'], dtype=object)},\n",
       " {'logits': array([-0.16487718], dtype=float32),\n",
       "  'logistic': array([0.45887384], dtype=float32),\n",
       "  'probabilities': array([0.54112613, 0.45887378], dtype=float32),\n",
       "  'class_ids': array([0], dtype=int64),\n",
       "  'classes': array([b'0'], dtype=object)},\n",
       " {'logits': array([-0.15692425], dtype=float32),\n",
       "  'logistic': array([0.46084926], dtype=float32),\n",
       "  'probabilities': array([0.5391508 , 0.46084926], dtype=float32),\n",
       "  'class_ids': array([0], dtype=int64),\n",
       "  'classes': array([b'0'], dtype=object)},\n",
       " {'logits': array([0.07170296], dtype=float32),\n",
       "  'logistic': array([0.51791805], dtype=float32),\n",
       "  'probabilities': array([0.48208192, 0.51791805], dtype=float32),\n",
       "  'class_ids': array([1], dtype=int64),\n",
       "  'classes': array([b'1'], dtype=object)},\n",
       " {'logits': array([-2.30224], dtype=float32),\n",
       "  'logistic': array([0.09093761], dtype=float32),\n",
       "  'probabilities': array([0.90906245, 0.09093763], dtype=float32),\n",
       "  'class_ids': array([0], dtype=int64),\n",
       "  'classes': array([b'0'], dtype=object)},\n",
       " {'logits': array([-0.00087404], dtype=float32),\n",
       "  'logistic': array([0.49978146], dtype=float32),\n",
       "  'probabilities': array([0.5002185, 0.4997815], dtype=float32),\n",
       "  'class_ids': array([0], dtype=int64),\n",
       "  'classes': array([b'0'], dtype=object)},\n",
       " {'logits': array([0.94646025], dtype=float32),\n",
       "  'logistic': array([0.7204027], dtype=float32),\n",
       "  'probabilities': array([0.27959725, 0.7204027 ], dtype=float32),\n",
       "  'class_ids': array([1], dtype=int64),\n",
       "  'classes': array([b'1'], dtype=object)},\n",
       " {'logits': array([-0.5852821], dtype=float32),\n",
       "  'logistic': array([0.3577181], dtype=float32),\n",
       "  'probabilities': array([0.64228195, 0.3577181 ], dtype=float32),\n",
       "  'class_ids': array([0], dtype=int64),\n",
       "  'classes': array([b'0'], dtype=object)},\n",
       " {'logits': array([-1.2603971], dtype=float32),\n",
       "  'logistic': array([0.22090554], dtype=float32),\n",
       "  'probabilities': array([0.77909446, 0.22090554], dtype=float32),\n",
       "  'class_ids': array([0], dtype=int64),\n",
       "  'classes': array([b'0'], dtype=object)},\n",
       " {'logits': array([-0.82015085], dtype=float32),\n",
       "  'logistic': array([0.30573165], dtype=float32),\n",
       "  'probabilities': array([0.69426835, 0.30573162], dtype=float32),\n",
       "  'class_ids': array([0], dtype=int64),\n",
       "  'classes': array([b'0'], dtype=object)},\n",
       " {'logits': array([0.05139935], dtype=float32),\n",
       "  'logistic': array([0.512847], dtype=float32),\n",
       "  'probabilities': array([0.487153, 0.512847], dtype=float32),\n",
       "  'class_ids': array([1], dtype=int64),\n",
       "  'classes': array([b'1'], dtype=object)},\n",
       " {'logits': array([-1.4784994], dtype=float32),\n",
       "  'logistic': array([0.1856542], dtype=float32),\n",
       "  'probabilities': array([0.81434584, 0.1856542 ], dtype=float32),\n",
       "  'class_ids': array([0], dtype=int64),\n",
       "  'classes': array([b'0'], dtype=object)},\n",
       " {'logits': array([0.25136924], dtype=float32),\n",
       "  'logistic': array([0.5625135], dtype=float32),\n",
       "  'probabilities': array([0.43748647, 0.5625135 ], dtype=float32),\n",
       "  'class_ids': array([1], dtype=int64),\n",
       "  'classes': array([b'1'], dtype=object)},\n",
       " {'logits': array([-0.5204206], dtype=float32),\n",
       "  'logistic': array([0.37275392], dtype=float32),\n",
       "  'probabilities': array([0.62724614, 0.3727539 ], dtype=float32),\n",
       "  'class_ids': array([0], dtype=int64),\n",
       "  'classes': array([b'0'], dtype=object)},\n",
       " {'logits': array([-0.45716953], dtype=float32),\n",
       "  'logistic': array([0.38765752], dtype=float32),\n",
       "  'probabilities': array([0.61234254, 0.38765752], dtype=float32),\n",
       "  'class_ids': array([0], dtype=int64),\n",
       "  'classes': array([b'0'], dtype=object)},\n",
       " {'logits': array([-1.9498775], dtype=float32),\n",
       "  'logistic': array([0.12456672], dtype=float32),\n",
       "  'probabilities': array([0.87543327, 0.12456671], dtype=float32),\n",
       "  'class_ids': array([0], dtype=int64),\n",
       "  'classes': array([b'0'], dtype=object)},\n",
       " {'logits': array([-1.6885244], dtype=float32),\n",
       "  'logistic': array([0.15596999], dtype=float32),\n",
       "  'probabilities': array([0.84402996, 0.15596999], dtype=float32),\n",
       "  'class_ids': array([0], dtype=int64),\n",
       "  'classes': array([b'0'], dtype=object)},\n",
       " {'logits': array([-1.7175382], dtype=float32),\n",
       "  'logistic': array([0.15218851], dtype=float32),\n",
       "  'probabilities': array([0.84781146, 0.15218852], dtype=float32),\n",
       "  'class_ids': array([0], dtype=int64),\n",
       "  'classes': array([b'0'], dtype=object)},\n",
       " {'logits': array([-0.4967056], dtype=float32),\n",
       "  'logistic': array([0.3783152], dtype=float32),\n",
       "  'probabilities': array([0.6216848 , 0.37831518], dtype=float32),\n",
       "  'class_ids': array([0], dtype=int64),\n",
       "  'classes': array([b'0'], dtype=object)},\n",
       " {'logits': array([-1.9930546], dtype=float32),\n",
       "  'logistic': array([0.11993405], dtype=float32),\n",
       "  'probabilities': array([0.8800659 , 0.11993407], dtype=float32),\n",
       "  'class_ids': array([0], dtype=int64),\n",
       "  'classes': array([b'0'], dtype=object)},\n",
       " {'logits': array([0.73985577], dtype=float32),\n",
       "  'logistic': array([0.6769643], dtype=float32),\n",
       "  'probabilities': array([0.3230357, 0.6769643], dtype=float32),\n",
       "  'class_ids': array([1], dtype=int64),\n",
       "  'classes': array([b'1'], dtype=object)},\n",
       " {'logits': array([-1.710545], dtype=float32),\n",
       "  'logistic': array([0.15309304], dtype=float32),\n",
       "  'probabilities': array([0.8469069 , 0.15309304], dtype=float32),\n",
       "  'class_ids': array([0], dtype=int64),\n",
       "  'classes': array([b'0'], dtype=object)},\n",
       " {'logits': array([-0.22112697], dtype=float32),\n",
       "  'logistic': array([0.4449424], dtype=float32),\n",
       "  'probabilities': array([0.5550576, 0.4449424], dtype=float32),\n",
       "  'class_ids': array([0], dtype=int64),\n",
       "  'classes': array([b'0'], dtype=object)},\n",
       " {'logits': array([-1.9764978], dtype=float32),\n",
       "  'logistic': array([0.12169269], dtype=float32),\n",
       "  'probabilities': array([0.87830734, 0.12169267], dtype=float32),\n",
       "  'class_ids': array([0], dtype=int64),\n",
       "  'classes': array([b'0'], dtype=object)},\n",
       " {'logits': array([0.3853718], dtype=float32),\n",
       "  'logistic': array([0.59516805], dtype=float32),\n",
       "  'probabilities': array([0.40483195, 0.59516805], dtype=float32),\n",
       "  'class_ids': array([1], dtype=int64),\n",
       "  'classes': array([b'1'], dtype=object)},\n",
       " {'logits': array([-0.87986743], dtype=float32),\n",
       "  'logistic': array([0.29320526], dtype=float32),\n",
       "  'probabilities': array([0.7067948 , 0.29320526], dtype=float32),\n",
       "  'class_ids': array([0], dtype=int64),\n",
       "  'classes': array([b'0'], dtype=object)},\n",
       " {'logits': array([-1.694142], dtype=float32),\n",
       "  'logistic': array([0.15523191], dtype=float32),\n",
       "  'probabilities': array([0.8447681 , 0.15523191], dtype=float32),\n",
       "  'class_ids': array([0], dtype=int64),\n",
       "  'classes': array([b'0'], dtype=object)},\n",
       " {'logits': array([-0.7772665], dtype=float32),\n",
       "  'logistic': array([0.3149093], dtype=float32),\n",
       "  'probabilities': array([0.68509066, 0.3149093 ], dtype=float32),\n",
       "  'class_ids': array([0], dtype=int64),\n",
       "  'classes': array([b'0'], dtype=object)},\n",
       " {'logits': array([-1.0002009], dtype=float32),\n",
       "  'logistic': array([0.26890194], dtype=float32),\n",
       "  'probabilities': array([0.7310981 , 0.26890194], dtype=float32),\n",
       "  'class_ids': array([0], dtype=int64),\n",
       "  'classes': array([b'0'], dtype=object)},\n",
       " {'logits': array([-1.8224583], dtype=float32),\n",
       "  'logistic': array([0.13913918], dtype=float32),\n",
       "  'probabilities': array([0.8608609 , 0.13913916], dtype=float32),\n",
       "  'class_ids': array([0], dtype=int64),\n",
       "  'classes': array([b'0'], dtype=object)},\n",
       " {'logits': array([0.7458383], dtype=float32),\n",
       "  'logistic': array([0.6782712], dtype=float32),\n",
       "  'probabilities': array([0.3217288 , 0.67827123], dtype=float32),\n",
       "  'class_ids': array([1], dtype=int64),\n",
       "  'classes': array([b'1'], dtype=object)},\n",
       " {'logits': array([-1.7113543], dtype=float32),\n",
       "  'logistic': array([0.15298814], dtype=float32),\n",
       "  'probabilities': array([0.84701186, 0.15298815], dtype=float32),\n",
       "  'class_ids': array([0], dtype=int64),\n",
       "  'classes': array([b'0'], dtype=object)},\n",
       " {'logits': array([-1.7876738], dtype=float32),\n",
       "  'logistic': array([0.14335814], dtype=float32),\n",
       "  'probabilities': array([0.8566418 , 0.14335816], dtype=float32),\n",
       "  'class_ids': array([0], dtype=int64),\n",
       "  'classes': array([b'0'], dtype=object)},\n",
       " {'logits': array([-1.1097112], dtype=float32),\n",
       "  'logistic': array([0.24792475], dtype=float32),\n",
       "  'probabilities': array([0.75207525, 0.24792473], dtype=float32),\n",
       "  'class_ids': array([0], dtype=int64),\n",
       "  'classes': array([b'0'], dtype=object)},\n",
       " {'logits': array([-0.38202685], dtype=float32),\n",
       "  'logistic': array([0.40563816], dtype=float32),\n",
       "  'probabilities': array([0.59436184, 0.40563813], dtype=float32),\n",
       "  'class_ids': array([0], dtype=int64),\n",
       "  'classes': array([b'0'], dtype=object)},\n",
       " {'logits': array([-1.1222963], dtype=float32),\n",
       "  'logistic': array([0.24558558], dtype=float32),\n",
       "  'probabilities': array([0.75441444, 0.24558559], dtype=float32),\n",
       "  'class_ids': array([0], dtype=int64),\n",
       "  'classes': array([b'0'], dtype=object)},\n",
       " {'logits': array([-2.1994267], dtype=float32),\n",
       "  'logistic': array([0.09980199], dtype=float32),\n",
       "  'probabilities': array([0.90019804, 0.09980199], dtype=float32),\n",
       "  'class_ids': array([0], dtype=int64),\n",
       "  'classes': array([b'0'], dtype=object)},\n",
       " {'logits': array([1.465677], dtype=float32),\n",
       "  'logistic': array([0.8123994], dtype=float32),\n",
       "  'probabilities': array([0.18760057, 0.8123994 ], dtype=float32),\n",
       "  'class_ids': array([1], dtype=int64),\n",
       "  'classes': array([b'1'], dtype=object)},\n",
       " {'logits': array([0.28917587], dtype=float32),\n",
       "  'logistic': array([0.57179433], dtype=float32),\n",
       "  'probabilities': array([0.42820564, 0.57179433], dtype=float32),\n",
       "  'class_ids': array([1], dtype=int64),\n",
       "  'classes': array([b'1'], dtype=object)},\n",
       " {'logits': array([-0.16423523], dtype=float32),\n",
       "  'logistic': array([0.45903325], dtype=float32),\n",
       "  'probabilities': array([0.54096675, 0.45903322], dtype=float32),\n",
       "  'class_ids': array([0], dtype=int64),\n",
       "  'classes': array([b'0'], dtype=object)},\n",
       " {'logits': array([0.76496947], dtype=float32),\n",
       "  'logistic': array([0.6824317], dtype=float32),\n",
       "  'probabilities': array([0.3175683, 0.6824317], dtype=float32),\n",
       "  'class_ids': array([1], dtype=int64),\n",
       "  'classes': array([b'1'], dtype=object)},\n",
       " {'logits': array([-2.1157045], dtype=float32),\n",
       "  'logistic': array([0.10757974], dtype=float32),\n",
       "  'probabilities': array([0.8924202 , 0.10757976], dtype=float32),\n",
       "  'class_ids': array([0], dtype=int64),\n",
       "  'classes': array([b'0'], dtype=object)},\n",
       " {'logits': array([-2.0740979], dtype=float32),\n",
       "  'logistic': array([0.11163995], dtype=float32),\n",
       "  'probabilities': array([0.88836   , 0.11163998], dtype=float32),\n",
       "  'class_ids': array([0], dtype=int64),\n",
       "  'classes': array([b'0'], dtype=object)},\n",
       " {'logits': array([-1.5373825], dtype=float32),\n",
       "  'logistic': array([0.1769161], dtype=float32),\n",
       "  'probabilities': array([0.82308394, 0.17691612], dtype=float32),\n",
       "  'class_ids': array([0], dtype=int64),\n",
       "  'classes': array([b'0'], dtype=object)},\n",
       " {'logits': array([-0.8575988], dtype=float32),\n",
       "  'logistic': array([0.29784128], dtype=float32),\n",
       "  'probabilities': array([0.7021587 , 0.29784125], dtype=float32),\n",
       "  'class_ids': array([0], dtype=int64),\n",
       "  'classes': array([b'0'], dtype=object)},\n",
       " {'logits': array([-0.95027786], dtype=float32),\n",
       "  'logistic': array([0.27882895], dtype=float32),\n",
       "  'probabilities': array([0.721171  , 0.27882892], dtype=float32),\n",
       "  'class_ids': array([0], dtype=int64),\n",
       "  'classes': array([b'0'], dtype=object)},\n",
       " {'logits': array([0.01108837], dtype=float32),\n",
       "  'logistic': array([0.50277203], dtype=float32),\n",
       "  'probabilities': array([0.4972279 , 0.50277203], dtype=float32),\n",
       "  'class_ids': array([1], dtype=int64),\n",
       "  'classes': array([b'1'], dtype=object)},\n",
       " {'logits': array([0.0150069], dtype=float32),\n",
       "  'logistic': array([0.50375164], dtype=float32),\n",
       "  'probabilities': array([0.49624833, 0.50375164], dtype=float32),\n",
       "  'class_ids': array([1], dtype=int64),\n",
       "  'classes': array([b'1'], dtype=object)},\n",
       " {'logits': array([-0.62862563], dtype=float32),\n",
       "  'logistic': array([0.34782225], dtype=float32),\n",
       "  'probabilities': array([0.65217775, 0.34782225], dtype=float32),\n",
       "  'class_ids': array([0], dtype=int64),\n",
       "  'classes': array([b'0'], dtype=object)},\n",
       " {'logits': array([-0.64730114], dtype=float32),\n",
       "  'logistic': array([0.343598], dtype=float32),\n",
       "  'probabilities': array([0.65640205, 0.343598  ], dtype=float32),\n",
       "  'class_ids': array([0], dtype=int64),\n",
       "  'classes': array([b'0'], dtype=object)},\n",
       " {'logits': array([-0.8414638], dtype=float32),\n",
       "  'logistic': array([0.30122662], dtype=float32),\n",
       "  'probabilities': array([0.69877344, 0.3012266 ], dtype=float32),\n",
       "  'class_ids': array([0], dtype=int64),\n",
       "  'classes': array([b'0'], dtype=object)},\n",
       " {'logits': array([-1.6654472], dtype=float32),\n",
       "  'logistic': array([0.1590321], dtype=float32),\n",
       "  'probabilities': array([0.84096783, 0.15903212], dtype=float32),\n",
       "  'class_ids': array([0], dtype=int64),\n",
       "  'classes': array([b'0'], dtype=object)},\n",
       " {'logits': array([0.27594316], dtype=float32),\n",
       "  'logistic': array([0.56855136], dtype=float32),\n",
       "  'probabilities': array([0.43144864, 0.56855136], dtype=float32),\n",
       "  'class_ids': array([1], dtype=int64),\n",
       "  'classes': array([b'1'], dtype=object)},\n",
       " {'logits': array([-2.0600343], dtype=float32),\n",
       "  'logistic': array([0.11304235], dtype=float32),\n",
       "  'probabilities': array([0.8869576 , 0.11304239], dtype=float32),\n",
       "  'class_ids': array([0], dtype=int64),\n",
       "  'classes': array([b'0'], dtype=object)},\n",
       " {'logits': array([-1.2942251], dtype=float32),\n",
       "  'logistic': array([0.21513852], dtype=float32),\n",
       "  'probabilities': array([0.78486145, 0.21513852], dtype=float32),\n",
       "  'class_ids': array([0], dtype=int64),\n",
       "  'classes': array([b'0'], dtype=object)},\n",
       " {'logits': array([0.03978753], dtype=float32),\n",
       "  'logistic': array([0.5099456], dtype=float32),\n",
       "  'probabilities': array([0.49005443, 0.5099456 ], dtype=float32),\n",
       "  'class_ids': array([1], dtype=int64),\n",
       "  'classes': array([b'1'], dtype=object)},\n",
       " {'logits': array([-0.7900888], dtype=float32),\n",
       "  'logistic': array([0.3121496], dtype=float32),\n",
       "  'probabilities': array([0.6878504 , 0.31214964], dtype=float32),\n",
       "  'class_ids': array([0], dtype=int64),\n",
       "  'classes': array([b'0'], dtype=object)},\n",
       " {'logits': array([-1.6722772], dtype=float32),\n",
       "  'logistic': array([0.15812081], dtype=float32),\n",
       "  'probabilities': array([0.8418792, 0.1581208], dtype=float32),\n",
       "  'class_ids': array([0], dtype=int64),\n",
       "  'classes': array([b'0'], dtype=object)},\n",
       " {'logits': array([-1.1809647], dtype=float32),\n",
       "  'logistic': array([0.23487875], dtype=float32),\n",
       "  'probabilities': array([0.76512116, 0.23487878], dtype=float32),\n",
       "  'class_ids': array([0], dtype=int64),\n",
       "  'classes': array([b'0'], dtype=object)},\n",
       " {'logits': array([-1.4425898], dtype=float32),\n",
       "  'logistic': array([0.19114462], dtype=float32),\n",
       "  'probabilities': array([0.80885535, 0.19114463], dtype=float32),\n",
       "  'class_ids': array([0], dtype=int64),\n",
       "  'classes': array([b'0'], dtype=object)},\n",
       " {'logits': array([-2.0462499], dtype=float32),\n",
       "  'logistic': array([0.11443186], dtype=float32),\n",
       "  'probabilities': array([0.88556814, 0.11443186], dtype=float32),\n",
       "  'class_ids': array([0], dtype=int64),\n",
       "  'classes': array([b'0'], dtype=object)},\n",
       " {'logits': array([-1.6154382], dtype=float32),\n",
       "  'logistic': array([0.16583496], dtype=float32),\n",
       "  'probabilities': array([0.83416504, 0.16583495], dtype=float32),\n",
       "  'class_ids': array([0], dtype=int64),\n",
       "  'classes': array([b'0'], dtype=object)},\n",
       " {'logits': array([-0.00904596], dtype=float32),\n",
       "  'logistic': array([0.49773854], dtype=float32),\n",
       "  'probabilities': array([0.50226146, 0.4977385 ], dtype=float32),\n",
       "  'class_ids': array([0], dtype=int64),\n",
       "  'classes': array([b'0'], dtype=object)},\n",
       " {'logits': array([0.611043], dtype=float32),\n",
       "  'logistic': array([0.64817864], dtype=float32),\n",
       "  'probabilities': array([0.35182133, 0.6481787 ], dtype=float32),\n",
       "  'class_ids': array([1], dtype=int64),\n",
       "  'classes': array([b'1'], dtype=object)},\n",
       " {'logits': array([0.24406862], dtype=float32),\n",
       "  'logistic': array([0.56071603], dtype=float32),\n",
       "  'probabilities': array([0.43928394, 0.56071603], dtype=float32),\n",
       "  'class_ids': array([1], dtype=int64),\n",
       "  'classes': array([b'1'], dtype=object)},\n",
       " {'logits': array([0.5357492], dtype=float32),\n",
       "  'logistic': array([0.6308231], dtype=float32),\n",
       "  'probabilities': array([0.36917698, 0.6308231 ], dtype=float32),\n",
       "  'class_ids': array([1], dtype=int64),\n",
       "  'classes': array([b'1'], dtype=object)},\n",
       " {'logits': array([-0.3394428], dtype=float32),\n",
       "  'logistic': array([0.41594487], dtype=float32),\n",
       "  'probabilities': array([0.5840552 , 0.41594484], dtype=float32),\n",
       "  'class_ids': array([0], dtype=int64),\n",
       "  'classes': array([b'0'], dtype=object)},\n",
       " {'logits': array([-0.9719672], dtype=float32),\n",
       "  'logistic': array([0.27448857], dtype=float32),\n",
       "  'probabilities': array([0.7255114 , 0.27448854], dtype=float32),\n",
       "  'class_ids': array([0], dtype=int64),\n",
       "  'classes': array([b'0'], dtype=object)},\n",
       " {'logits': array([-0.1354531], dtype=float32),\n",
       "  'logistic': array([0.4661884], dtype=float32),\n",
       "  'probabilities': array([0.5338116 , 0.46618843], dtype=float32),\n",
       "  'class_ids': array([0], dtype=int64),\n",
       "  'classes': array([b'0'], dtype=object)},\n",
       " {'logits': array([-1.7759852], dtype=float32),\n",
       "  'logistic': array([0.14479956], dtype=float32),\n",
       "  'probabilities': array([0.8552004 , 0.14479958], dtype=float32),\n",
       "  'class_ids': array([0], dtype=int64),\n",
       "  'classes': array([b'0'], dtype=object)},\n",
       " {'logits': array([-1.9322845], dtype=float32),\n",
       "  'logistic': array([0.12649795], dtype=float32),\n",
       "  'probabilities': array([0.8735021 , 0.12649794], dtype=float32),\n",
       "  'class_ids': array([0], dtype=int64),\n",
       "  'classes': array([b'0'], dtype=object)},\n",
       " {'logits': array([-1.8071837], dtype=float32),\n",
       "  'logistic': array([0.14097881], dtype=float32),\n",
       "  'probabilities': array([0.8590212 , 0.14097884], dtype=float32),\n",
       "  'class_ids': array([0], dtype=int64),\n",
       "  'classes': array([b'0'], dtype=object)},\n",
       " {'logits': array([-0.2657768], dtype=float32),\n",
       "  'logistic': array([0.43394417], dtype=float32),\n",
       "  'probabilities': array([0.56605583, 0.43394417], dtype=float32),\n",
       "  'class_ids': array([0], dtype=int64),\n",
       "  'classes': array([b'0'], dtype=object)},\n",
       " {'logits': array([-2.932138], dtype=float32),\n",
       "  'logistic': array([0.05058756], dtype=float32),\n",
       "  'probabilities': array([0.94941247, 0.05058754], dtype=float32),\n",
       "  'class_ids': array([0], dtype=int64),\n",
       "  'classes': array([b'0'], dtype=object)},\n",
       " {'logits': array([-1.243561], dtype=float32),\n",
       "  'logistic': array([0.22381672], dtype=float32),\n",
       "  'probabilities': array([0.77618325, 0.22381674], dtype=float32),\n",
       "  'class_ids': array([0], dtype=int64),\n",
       "  'classes': array([b'0'], dtype=object)},\n",
       " {'logits': array([-1.8278978], dtype=float32),\n",
       "  'logistic': array([0.13848889], dtype=float32),\n",
       "  'probabilities': array([0.8615111, 0.1384889], dtype=float32),\n",
       "  'class_ids': array([0], dtype=int64),\n",
       "  'classes': array([b'0'], dtype=object)},\n",
       " {'logits': array([-1.0653622], dtype=float32),\n",
       "  'logistic': array([0.25628605], dtype=float32),\n",
       "  'probabilities': array([0.7437139 , 0.25628605], dtype=float32),\n",
       "  'class_ids': array([0], dtype=int64),\n",
       "  'classes': array([b'0'], dtype=object)},\n",
       " {'logits': array([-1.3983808], dtype=float32),\n",
       "  'logistic': array([0.19807318], dtype=float32),\n",
       "  'probabilities': array([0.8019268 , 0.19807318], dtype=float32),\n",
       "  'class_ids': array([0], dtype=int64),\n",
       "  'classes': array([b'0'], dtype=object)},\n",
       " {'logits': array([-1.2244421], dtype=float32),\n",
       "  'logistic': array([0.22715569], dtype=float32),\n",
       "  'probabilities': array([0.7728444 , 0.22715567], dtype=float32),\n",
       "  'class_ids': array([0], dtype=int64),\n",
       "  'classes': array([b'0'], dtype=object)},\n",
       " {'logits': array([0.8839743], dtype=float32),\n",
       "  'logistic': array([0.7076451], dtype=float32),\n",
       "  'probabilities': array([0.29235488, 0.7076451 ], dtype=float32),\n",
       "  'class_ids': array([1], dtype=int64),\n",
       "  'classes': array([b'1'], dtype=object)},\n",
       " {'logits': array([-1.7506745], dtype=float32),\n",
       "  'logistic': array([0.14796212], dtype=float32),\n",
       "  'probabilities': array([0.85203785, 0.14796215], dtype=float32),\n",
       "  'class_ids': array([0], dtype=int64),\n",
       "  'classes': array([b'0'], dtype=object)},\n",
       " {'logits': array([-2.1119356], dtype=float32),\n",
       "  'logistic': array([0.10794216], dtype=float32),\n",
       "  'probabilities': array([0.8920579 , 0.10794215], dtype=float32),\n",
       "  'class_ids': array([0], dtype=int64),\n",
       "  'classes': array([b'0'], dtype=object)},\n",
       " {'logits': array([0.1459856], dtype=float32),\n",
       "  'logistic': array([0.5364317], dtype=float32),\n",
       "  'probabilities': array([0.46356827, 0.5364317 ], dtype=float32),\n",
       "  'class_ids': array([1], dtype=int64),\n",
       "  'classes': array([b'1'], dtype=object)},\n",
       " {'logits': array([-0.2771799], dtype=float32),\n",
       "  'logistic': array([0.4311453], dtype=float32),\n",
       "  'probabilities': array([0.5688547 , 0.43114528], dtype=float32),\n",
       "  'class_ids': array([0], dtype=int64),\n",
       "  'classes': array([b'0'], dtype=object)},\n",
       " {'logits': array([1.3429084], dtype=float32),\n",
       "  'logistic': array([0.7929678], dtype=float32),\n",
       "  'probabilities': array([0.20703219, 0.7929678 ], dtype=float32),\n",
       "  'class_ids': array([1], dtype=int64),\n",
       "  'classes': array([b'1'], dtype=object)},\n",
       " {'logits': array([0.30819952], dtype=float32),\n",
       "  'logistic': array([0.57644576], dtype=float32),\n",
       "  'probabilities': array([0.4235543 , 0.57644576], dtype=float32),\n",
       "  'class_ids': array([1], dtype=int64),\n",
       "  'classes': array([b'1'], dtype=object)},\n",
       " {'logits': array([-2.1034403], dtype=float32),\n",
       "  'logistic': array([0.1087629], dtype=float32),\n",
       "  'probabilities': array([0.89123714, 0.1087629 ], dtype=float32),\n",
       "  'class_ids': array([0], dtype=int64),\n",
       "  'classes': array([b'0'], dtype=object)},\n",
       " {'logits': array([0.31579733], dtype=float32),\n",
       "  'logistic': array([0.5782997], dtype=float32),\n",
       "  'probabilities': array([0.42170027, 0.57829964], dtype=float32),\n",
       "  'class_ids': array([1], dtype=int64),\n",
       "  'classes': array([b'1'], dtype=object)},\n",
       " {'logits': array([-0.20291775], dtype=float32),\n",
       "  'logistic': array([0.4494439], dtype=float32),\n",
       "  'probabilities': array([0.55055606, 0.4494439 ], dtype=float32),\n",
       "  'class_ids': array([0], dtype=int64),\n",
       "  'classes': array([b'0'], dtype=object)},\n",
       " {'logits': array([0.86333895], dtype=float32),\n",
       "  'logistic': array([0.70335776], dtype=float32),\n",
       "  'probabilities': array([0.29664224, 0.7033578 ], dtype=float32),\n",
       "  'class_ids': array([1], dtype=int64),\n",
       "  'classes': array([b'1'], dtype=object)},\n",
       " {'logits': array([-1.4457397], dtype=float32),\n",
       "  'logistic': array([0.19065809], dtype=float32),\n",
       "  'probabilities': array([0.8093419 , 0.19065808], dtype=float32),\n",
       "  'class_ids': array([0], dtype=int64),\n",
       "  'classes': array([b'0'], dtype=object)},\n",
       " {'logits': array([-1.7703454], dtype=float32),\n",
       "  'logistic': array([0.14549935], dtype=float32),\n",
       "  'probabilities': array([0.85450065, 0.14549938], dtype=float32),\n",
       "  'class_ids': array([0], dtype=int64),\n",
       "  'classes': array([b'0'], dtype=object)},\n",
       " {'logits': array([-0.00556922], dtype=float32),\n",
       "  'logistic': array([0.4986077], dtype=float32),\n",
       "  'probabilities': array([0.5013923 , 0.49860772], dtype=float32),\n",
       "  'class_ids': array([0], dtype=int64),\n",
       "  'classes': array([b'0'], dtype=object)},\n",
       " {'logits': array([-2.0285358], dtype=float32),\n",
       "  'logistic': array([0.11623922], dtype=float32),\n",
       "  'probabilities': array([0.8837608 , 0.11623926], dtype=float32),\n",
       "  'class_ids': array([0], dtype=int64),\n",
       "  'classes': array([b'0'], dtype=object)},\n",
       " {'logits': array([1.0886474], dtype=float32),\n",
       "  'logistic': array([0.74812686], dtype=float32),\n",
       "  'probabilities': array([0.25187308, 0.7481269 ], dtype=float32),\n",
       "  'class_ids': array([1], dtype=int64),\n",
       "  'classes': array([b'1'], dtype=object)},\n",
       " {'logits': array([-0.3682077], dtype=float32),\n",
       "  'logistic': array([0.40897417], dtype=float32),\n",
       "  'probabilities': array([0.5910258 , 0.40897417], dtype=float32),\n",
       "  'class_ids': array([0], dtype=int64),\n",
       "  'classes': array([b'0'], dtype=object)},\n",
       " {'logits': array([-1.7440097], dtype=float32),\n",
       "  'logistic': array([0.14880434], dtype=float32),\n",
       "  'probabilities': array([0.85119563, 0.14880434], dtype=float32),\n",
       "  'class_ids': array([0], dtype=int64),\n",
       "  'classes': array([b'0'], dtype=object)},\n",
       " {'logits': array([-0.02796853], dtype=float32),\n",
       "  'logistic': array([0.49300832], dtype=float32),\n",
       "  'probabilities': array([0.5069917 , 0.49300832], dtype=float32),\n",
       "  'class_ids': array([0], dtype=int64),\n",
       "  'classes': array([b'0'], dtype=object)},\n",
       " {'logits': array([-0.24739206], dtype=float32),\n",
       "  'logistic': array([0.4384655], dtype=float32),\n",
       "  'probabilities': array([0.5615345 , 0.43846554], dtype=float32),\n",
       "  'class_ids': array([0], dtype=int64),\n",
       "  'classes': array([b'0'], dtype=object)},\n",
       " {'logits': array([-2.239224], dtype=float32),\n",
       "  'logistic': array([0.09628308], dtype=float32),\n",
       "  'probabilities': array([0.9037169 , 0.09628305], dtype=float32),\n",
       "  'class_ids': array([0], dtype=int64),\n",
       "  'classes': array([b'0'], dtype=object)},\n",
       " {'logits': array([-0.35085362], dtype=float32),\n",
       "  'logistic': array([0.41317543], dtype=float32),\n",
       "  'probabilities': array([0.5868246 , 0.41317543], dtype=float32),\n",
       "  'class_ids': array([0], dtype=int64),\n",
       "  'classes': array([b'0'], dtype=object)},\n",
       " {'logits': array([0.26865005], dtype=float32),\n",
       "  'logistic': array([0.5667615], dtype=float32),\n",
       "  'probabilities': array([0.43323854, 0.56676143], dtype=float32),\n",
       "  'class_ids': array([1], dtype=int64),\n",
       "  'classes': array([b'1'], dtype=object)},\n",
       " {'logits': array([0.7418957], dtype=float32),\n",
       "  'logistic': array([0.67741024], dtype=float32),\n",
       "  'probabilities': array([0.32258976, 0.67741024], dtype=float32),\n",
       "  'class_ids': array([1], dtype=int64),\n",
       "  'classes': array([b'1'], dtype=object)},\n",
       " {'logits': array([1.1960485], dtype=float32),\n",
       "  'logistic': array([0.7678211], dtype=float32),\n",
       "  'probabilities': array([0.23217891, 0.7678211 ], dtype=float32),\n",
       "  'class_ids': array([1], dtype=int64),\n",
       "  'classes': array([b'1'], dtype=object)},\n",
       " {'logits': array([-0.42062032], dtype=float32),\n",
       "  'logistic': array([0.39636832], dtype=float32),\n",
       "  'probabilities': array([0.6036317, 0.3963683], dtype=float32),\n",
       "  'class_ids': array([0], dtype=int64),\n",
       "  'classes': array([b'0'], dtype=object)},\n",
       " {'logits': array([-1.9393861], dtype=float32),\n",
       "  'logistic': array([0.12571532], dtype=float32),\n",
       "  'probabilities': array([0.87428474, 0.12571533], dtype=float32),\n",
       "  'class_ids': array([0], dtype=int64),\n",
       "  'classes': array([b'0'], dtype=object)},\n",
       " {'logits': array([-2.5295258], dtype=float32),\n",
       "  'logistic': array([0.07381406], dtype=float32),\n",
       "  'probabilities': array([0.92618597, 0.07381406], dtype=float32),\n",
       "  'class_ids': array([0], dtype=int64),\n",
       "  'classes': array([b'0'], dtype=object)},\n",
       " {'logits': array([-2.2448974], dtype=float32),\n",
       "  'logistic': array([0.09579052], dtype=float32),\n",
       "  'probabilities': array([0.90420943, 0.09579051], dtype=float32),\n",
       "  'class_ids': array([0], dtype=int64),\n",
       "  'classes': array([b'0'], dtype=object)},\n",
       " {'logits': array([-1.2761282], dtype=float32),\n",
       "  'logistic': array([0.21821003], dtype=float32),\n",
       "  'probabilities': array([0.78178996, 0.21821   ], dtype=float32),\n",
       "  'class_ids': array([0], dtype=int64),\n",
       "  'classes': array([b'0'], dtype=object)},\n",
       " {'logits': array([-0.92455184], dtype=float32),\n",
       "  'logistic': array([0.28403133], dtype=float32),\n",
       "  'probabilities': array([0.71596867, 0.28403133], dtype=float32),\n",
       "  'class_ids': array([0], dtype=int64),\n",
       "  'classes': array([b'0'], dtype=object)},\n",
       " {'logits': array([-1.2850984], dtype=float32),\n",
       "  'logistic': array([0.21668361], dtype=float32),\n",
       "  'probabilities': array([0.7833164, 0.2166836], dtype=float32),\n",
       "  'class_ids': array([0], dtype=int64),\n",
       "  'classes': array([b'0'], dtype=object)}]"
      ]
     },
     "execution_count": 142,
     "metadata": {},
     "output_type": "execute_result"
    }
   ],
   "source": [
    "list(predictions)"
   ]
  },
  {
   "cell_type": "markdown",
   "metadata": {},
   "source": [
    "### DNN (Dense Neural Network) Classifier"
   ]
  },
  {
   "cell_type": "code",
   "execution_count": 143,
   "metadata": {},
   "outputs": [
    {
     "name": "stdout",
     "output_type": "stream",
     "text": [
      "INFO:tensorflow:Using default config.\n",
      "WARNING:tensorflow:Using temporary folder as model directory: C:\\Users\\Sampayo\\AppData\\Local\\Temp\\tmp2vhwligm\n",
      "INFO:tensorflow:Using config: {'_model_dir': 'C:\\\\Users\\\\Sampayo\\\\AppData\\\\Local\\\\Temp\\\\tmp2vhwligm', '_tf_random_seed': None, '_save_summary_steps': 100, '_save_checkpoints_steps': None, '_save_checkpoints_secs': 600, '_session_config': allow_soft_placement: true\n",
      "graph_options {\n",
      "  rewrite_options {\n",
      "    meta_optimizer_iterations: ONE\n",
      "  }\n",
      "}\n",
      ", '_keep_checkpoint_max': 5, '_keep_checkpoint_every_n_hours': 10000, '_log_step_count_steps': 100, '_train_distribute': None, '_device_fn': None, '_protocol': None, '_eval_distribute': None, '_experimental_distribute': None, '_service': None, '_cluster_spec': <tensorflow.python.training.server_lib.ClusterSpec object at 0x0000025648CA9E48>, '_task_type': 'worker', '_task_id': 0, '_global_id_in_cluster': 0, '_master': '', '_evaluation_master': '', '_is_chief': True, '_num_ps_replicas': 0, '_num_worker_replicas': 1}\n"
     ]
    }
   ],
   "source": [
    "dnn_model = tf.estimator.DNNClassifier(hidden_units=[10,10,10],feature_columns=feat_cols,n_classes=2)\n",
    "#hidden units: neuronsxlayer"
   ]
  },
  {
   "cell_type": "markdown",
   "metadata": {},
   "source": [
    "#### To solve categorical column"
   ]
  },
  {
   "cell_type": "code",
   "execution_count": 145,
   "metadata": {},
   "outputs": [],
   "source": [
    "embedded_group_column = tf.feature_column.embedding_column(assigned_group, dimension=4)"
   ]
  },
  {
   "cell_type": "code",
   "execution_count": 146,
   "metadata": {},
   "outputs": [],
   "source": [
    "#replace assigned_group with embedded_group_column\n",
    "feat_cols = [num_preg ,plasma_gluc,dias_press ,tricep ,insulin,bmi,diabetes_pedigree ,embedded_group_column, age_buckets]"
   ]
  },
  {
   "cell_type": "markdown",
   "metadata": {},
   "source": [
    "#### Input function"
   ]
  },
  {
   "cell_type": "code",
   "execution_count": 148,
   "metadata": {},
   "outputs": [],
   "source": [
    "input_func = tf.estimator.inputs.pandas_input_fn(x=X_train,y=y_train,batch_size=10,num_epochs=1000,shuffle=True)"
   ]
  },
  {
   "cell_type": "markdown",
   "metadata": {},
   "source": [
    "#### Model"
   ]
  },
  {
   "cell_type": "code",
   "execution_count": 149,
   "metadata": {},
   "outputs": [
    {
     "name": "stdout",
     "output_type": "stream",
     "text": [
      "INFO:tensorflow:Using default config.\n",
      "WARNING:tensorflow:Using temporary folder as model directory: C:\\Users\\Sampayo\\AppData\\Local\\Temp\\tmpd58d2ag2\n",
      "INFO:tensorflow:Using config: {'_model_dir': 'C:\\\\Users\\\\Sampayo\\\\AppData\\\\Local\\\\Temp\\\\tmpd58d2ag2', '_tf_random_seed': None, '_save_summary_steps': 100, '_save_checkpoints_steps': None, '_save_checkpoints_secs': 600, '_session_config': allow_soft_placement: true\n",
      "graph_options {\n",
      "  rewrite_options {\n",
      "    meta_optimizer_iterations: ONE\n",
      "  }\n",
      "}\n",
      ", '_keep_checkpoint_max': 5, '_keep_checkpoint_every_n_hours': 10000, '_log_step_count_steps': 100, '_train_distribute': None, '_device_fn': None, '_protocol': None, '_eval_distribute': None, '_experimental_distribute': None, '_service': None, '_cluster_spec': <tensorflow.python.training.server_lib.ClusterSpec object at 0x000002564B5C8088>, '_task_type': 'worker', '_task_id': 0, '_global_id_in_cluster': 0, '_master': '', '_evaluation_master': '', '_is_chief': True, '_num_ps_replicas': 0, '_num_worker_replicas': 1}\n"
     ]
    }
   ],
   "source": [
    "dnn_model = tf.estimator.DNNClassifier(hidden_units=[10,10,10],feature_columns=feat_cols,n_classes=2)"
   ]
  },
  {
   "cell_type": "code",
   "execution_count": 150,
   "metadata": {},
   "outputs": [
    {
     "name": "stdout",
     "output_type": "stream",
     "text": [
      "INFO:tensorflow:Calling model_fn.\n",
      "WARNING:tensorflow:From C:\\Users\\Sampayo\\anaconda3\\lib\\site-packages\\tensorflow\\python\\feature_column\\feature_column_v2.py:2997: VocabularyListCategoricalColumn._num_buckets (from tensorflow.python.feature_column.feature_column_v2) is deprecated and will be removed after 2018-11-30.\n",
      "Instructions for updating:\n",
      "The old _FeatureColumn APIs are being deprecated. Please use the new FeatureColumn APIs instead.\n",
      "WARNING:tensorflow:From C:\\Users\\Sampayo\\anaconda3\\lib\\site-packages\\tensorflow\\python\\ops\\array_grad.py:425: to_int32 (from tensorflow.python.ops.math_ops) is deprecated and will be removed in a future version.\n",
      "Instructions for updating:\n",
      "Use tf.cast instead.\n",
      "INFO:tensorflow:Done calling model_fn.\n",
      "INFO:tensorflow:Create CheckpointSaverHook.\n",
      "INFO:tensorflow:Graph was finalized.\n",
      "INFO:tensorflow:Running local_init_op.\n",
      "INFO:tensorflow:Done running local_init_op.\n",
      "INFO:tensorflow:Saving checkpoints for 0 into C:\\Users\\Sampayo\\AppData\\Local\\Temp\\tmpd58d2ag2\\model.ckpt.\n",
      "INFO:tensorflow:loss = 6.952674, step = 1\n",
      "INFO:tensorflow:global_step/sec: 347.313\n",
      "INFO:tensorflow:loss = 5.8694963, step = 101 (0.289 sec)\n",
      "INFO:tensorflow:global_step/sec: 697.378\n",
      "INFO:tensorflow:loss = 4.2003827, step = 201 (0.146 sec)\n",
      "INFO:tensorflow:global_step/sec: 675.895\n",
      "INFO:tensorflow:loss = 3.5298188, step = 301 (0.148 sec)\n",
      "INFO:tensorflow:global_step/sec: 641.234\n",
      "INFO:tensorflow:loss = 6.781894, step = 401 (0.153 sec)\n",
      "INFO:tensorflow:global_step/sec: 714.519\n",
      "INFO:tensorflow:loss = 6.270433, step = 501 (0.143 sec)\n",
      "INFO:tensorflow:global_step/sec: 671.356\n",
      "INFO:tensorflow:loss = 3.6477242, step = 601 (0.149 sec)\n",
      "INFO:tensorflow:global_step/sec: 657.742\n",
      "INFO:tensorflow:loss = 4.9679246, step = 701 (0.151 sec)\n",
      "INFO:tensorflow:global_step/sec: 689.884\n",
      "INFO:tensorflow:loss = 3.0585403, step = 801 (0.146 sec)\n",
      "INFO:tensorflow:global_step/sec: 518.3\n",
      "INFO:tensorflow:loss = 3.0937502, step = 901 (0.191 sec)\n",
      "INFO:tensorflow:Saving checkpoints for 1000 into C:\\Users\\Sampayo\\AppData\\Local\\Temp\\tmpd58d2ag2\\model.ckpt.\n",
      "INFO:tensorflow:Loss for final step: 3.1019413.\n"
     ]
    },
    {
     "data": {
      "text/plain": [
       "<tensorflow_estimator.python.estimator.canned.dnn.DNNClassifier at 0x2564b5b8c08>"
      ]
     },
     "execution_count": 150,
     "metadata": {},
     "output_type": "execute_result"
    }
   ],
   "source": [
    "dnn_model.train(input_fn=input_func,steps=1000)"
   ]
  },
  {
   "cell_type": "code",
   "execution_count": 151,
   "metadata": {},
   "outputs": [],
   "source": [
    "eval_input_func = tf.estimator.inputs.pandas_input_fn(\n",
    "      x=X_test,\n",
    "      y=y_test,\n",
    "      batch_size=10,\n",
    "      num_epochs=1,\n",
    "      shuffle=False)"
   ]
  },
  {
   "cell_type": "code",
   "execution_count": 152,
   "metadata": {},
   "outputs": [
    {
     "name": "stdout",
     "output_type": "stream",
     "text": [
      "INFO:tensorflow:Calling model_fn.\n",
      "WARNING:tensorflow:Trapezoidal rule is known to produce incorrect PR-AUCs; please switch to \"careful_interpolation\" instead.\n",
      "WARNING:tensorflow:Trapezoidal rule is known to produce incorrect PR-AUCs; please switch to \"careful_interpolation\" instead.\n",
      "INFO:tensorflow:Done calling model_fn.\n",
      "INFO:tensorflow:Starting evaluation at 2020-05-06T09:11:20Z\n",
      "INFO:tensorflow:Graph was finalized.\n",
      "INFO:tensorflow:Restoring parameters from C:\\Users\\Sampayo\\AppData\\Local\\Temp\\tmpd58d2ag2\\model.ckpt-1000\n",
      "INFO:tensorflow:Running local_init_op.\n",
      "INFO:tensorflow:Done running local_init_op.\n",
      "INFO:tensorflow:Finished evaluation at 2020-05-06-09:11:21\n",
      "INFO:tensorflow:Saving dict for global step 1000: accuracy = 0.7598425, accuracy_baseline = 0.65748036, auc = 0.8302016, auc_precision_recall = 0.71273315, average_loss = 0.4995279, global_step = 1000, label/mean = 0.34251967, loss = 4.8800035, precision = 0.6203704, prediction/mean = 0.4275225, recall = 0.77011496\n",
      "INFO:tensorflow:Saving 'checkpoint_path' summary for global step 1000: C:\\Users\\Sampayo\\AppData\\Local\\Temp\\tmpd58d2ag2\\model.ckpt-1000\n"
     ]
    },
    {
     "data": {
      "text/plain": [
       "{'accuracy': 0.7598425,\n",
       " 'accuracy_baseline': 0.65748036,\n",
       " 'auc': 0.8302016,\n",
       " 'auc_precision_recall': 0.71273315,\n",
       " 'average_loss': 0.4995279,\n",
       " 'label/mean': 0.34251967,\n",
       " 'loss': 4.8800035,\n",
       " 'precision': 0.6203704,\n",
       " 'prediction/mean': 0.4275225,\n",
       " 'recall': 0.77011496,\n",
       " 'global_step': 1000}"
      ]
     },
     "execution_count": 152,
     "metadata": {},
     "output_type": "execute_result"
    }
   ],
   "source": [
    "dnn_model.evaluate(eval_input_func)"
   ]
  },
  {
   "cell_type": "code",
   "execution_count": 154,
   "metadata": {},
   "outputs": [
    {
     "data": {
      "text/plain": [
       "{'accuracy': 0.7362205,\n",
       " 'accuracy_baseline': 0.65748036,\n",
       " 'auc': 0.7836052,\n",
       " 'auc_precision_recall': 0.62175596,\n",
       " 'average_loss': 0.53417104,\n",
       " 'label/mean': 0.34251967,\n",
       " 'loss': 5.21844,\n",
       " 'precision': 0.6851852,\n",
       " 'prediction/mean': 0.32659918,\n",
       " 'recall': 0.42528737,\n",
       " 'global_step': 1000}"
      ]
     },
     "execution_count": 154,
     "metadata": {},
     "output_type": "execute_result"
    }
   ],
   "source": [
    "#LinearClassifier results\n",
    "results"
   ]
  }
 ],
 "metadata": {
  "kernelspec": {
   "display_name": "Python 3",
   "language": "python",
   "name": "python3"
  },
  "language_info": {
   "codemirror_mode": {
    "name": "ipython",
    "version": 3
   },
   "file_extension": ".py",
   "mimetype": "text/x-python",
   "name": "python",
   "nbconvert_exporter": "python",
   "pygments_lexer": "ipython3",
   "version": "3.7.6"
  }
 },
 "nbformat": 4,
 "nbformat_minor": 4
}
